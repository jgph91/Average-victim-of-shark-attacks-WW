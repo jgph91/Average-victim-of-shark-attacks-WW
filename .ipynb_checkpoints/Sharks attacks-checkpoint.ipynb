{
 "cells": [
  {
   "cell_type": "markdown",
   "metadata": {},
   "source": [
    "# Sharks attacks"
   ]
  },
  {
   "cell_type": "code",
   "execution_count": 1,
   "metadata": {},
   "outputs": [],
   "source": [
    "# modules import\n",
    "import re\n",
    "import pandas as pd\n",
    "from src.functions import sex_filter,fatal_filter,space_cleaner,age_cleaner"
   ]
  },
  {
   "cell_type": "code",
   "execution_count": 2,
   "metadata": {},
   "outputs": [
    {
     "data": {
      "text/html": [
       "<div>\n",
       "<style scoped>\n",
       "    .dataframe tbody tr th:only-of-type {\n",
       "        vertical-align: middle;\n",
       "    }\n",
       "\n",
       "    .dataframe tbody tr th {\n",
       "        vertical-align: top;\n",
       "    }\n",
       "\n",
       "    .dataframe thead th {\n",
       "        text-align: right;\n",
       "    }\n",
       "</style>\n",
       "<table border=\"1\" class=\"dataframe\">\n",
       "  <thead>\n",
       "    <tr style=\"text-align: right;\">\n",
       "      <th></th>\n",
       "      <th>Year</th>\n",
       "      <th>Country</th>\n",
       "      <th>Activity</th>\n",
       "      <th>Name</th>\n",
       "      <th>Sex</th>\n",
       "      <th>Age</th>\n",
       "      <th>Fatal (Y/N)</th>\n",
       "    </tr>\n",
       "  </thead>\n",
       "  <tbody>\n",
       "    <tr>\n",
       "      <td>0</td>\n",
       "      <td>2016</td>\n",
       "      <td>USA</td>\n",
       "      <td>Surfing</td>\n",
       "      <td>male</td>\n",
       "      <td>M</td>\n",
       "      <td>16</td>\n",
       "      <td>N</td>\n",
       "    </tr>\n",
       "    <tr>\n",
       "      <td>1</td>\n",
       "      <td>2016</td>\n",
       "      <td>USA</td>\n",
       "      <td>Surfing</td>\n",
       "      <td>Chucky Luciano</td>\n",
       "      <td>M</td>\n",
       "      <td>36</td>\n",
       "      <td>N</td>\n",
       "    </tr>\n",
       "    <tr>\n",
       "      <td>2</td>\n",
       "      <td>2016</td>\n",
       "      <td>USA</td>\n",
       "      <td>Surfing</td>\n",
       "      <td>male</td>\n",
       "      <td>M</td>\n",
       "      <td>43</td>\n",
       "      <td>N</td>\n",
       "    </tr>\n",
       "    <tr>\n",
       "      <td>3</td>\n",
       "      <td>2016</td>\n",
       "      <td>AUSTRALIA</td>\n",
       "      <td>Surfing</td>\n",
       "      <td>Rory Angiolella</td>\n",
       "      <td>M</td>\n",
       "      <td>NaN</td>\n",
       "      <td>N</td>\n",
       "    </tr>\n",
       "    <tr>\n",
       "      <td>4</td>\n",
       "      <td>2016</td>\n",
       "      <td>AUSTRALIA</td>\n",
       "      <td>Surfing</td>\n",
       "      <td>male</td>\n",
       "      <td>M</td>\n",
       "      <td>NaN</td>\n",
       "      <td>N</td>\n",
       "    </tr>\n",
       "  </tbody>\n",
       "</table>\n",
       "</div>"
      ],
      "text/plain": [
       "   Year    Country Activity             Name Sex   Age Fatal (Y/N)\n",
       "0  2016        USA  Surfing             male    M   16           N\n",
       "1  2016        USA  Surfing   Chucky Luciano    M   36           N\n",
       "2  2016        USA  Surfing             male    M   43           N\n",
       "3  2016  AUSTRALIA  Surfing  Rory Angiolella    M  NaN           N\n",
       "4  2016  AUSTRALIA  Surfing             male    M  NaN           N"
      ]
     },
     "execution_count": 2,
     "metadata": {},
     "output_type": "execute_result"
    }
   ],
   "source": [
    "# Database import from Kaggle's csv\n",
    "\n",
    "data = pd.read_csv(\"./input/GSAF5.csv\",encoding='cp1252')\n",
    "\n",
    "df = pd.DataFrame(data)\n",
    "df = df[[\"Year\",\"Country\",\"Activity\",\"Name\",\"Sex \",\"Age\",\"Fatal (Y/N)\"]]\n",
    "\n",
    "df.head()"
   ]
  },
  {
   "cell_type": "code",
   "execution_count": 3,
   "metadata": {},
   "outputs": [
    {
     "data": {
      "text/plain": [
       "Country          43\n",
       "Activity        527\n",
       "Name            200\n",
       "Sex             567\n",
       "Age            2681\n",
       "Fatal (Y/N)      19\n",
       "dtype: int64"
      ]
     },
     "execution_count": 3,
     "metadata": {},
     "output_type": "execute_result"
    }
   ],
   "source": [
    "# Checking zeroes\n",
    "\n",
    "null_cols = df.isnull().sum()\n",
    "null_cols\n",
    "null_cols[null_cols > 0]"
   ]
  },
  {
   "cell_type": "code",
   "execution_count": 4,
   "metadata": {},
   "outputs": [
    {
     "name": "stdout",
     "output_type": "stream",
     "text": [
      "Year            int64\n",
      "Country        object\n",
      "Activity       object\n",
      "Name           object\n",
      "Sex            object\n",
      "Age            object\n",
      "Fatal (Y/N)    object\n",
      "dtype: object\n"
     ]
    }
   ],
   "source": [
    "#Columns data types\n",
    "\n",
    "print(df.dtypes)\n"
   ]
  },
  {
   "cell_type": "code",
   "execution_count": 5,
   "metadata": {},
   "outputs": [
    {
     "name": "stdout",
     "output_type": "stream",
     "text": [
      "(5324, 7)\n",
      "1900     13\n",
      "1901      9\n",
      "1902     15\n",
      "1903     10\n",
      "1904     13\n",
      "       ... \n",
      "2012    117\n",
      "2013    122\n",
      "2014    125\n",
      "2015    139\n",
      "2016    103\n",
      "Name: Year, Length: 117, dtype: int64\n"
     ]
    }
   ],
   "source": [
    "# Filtering by year (1986-2016)\n",
    "\n",
    "df = df[(df[\"Year\"]>= 1900)]\n",
    "\n",
    "#number of values matching the report range\n",
    "\n",
    "print(df.shape)\n",
    "print(df[\"Year\"].value_counts().sort_index())"
   ]
  },
  {
   "cell_type": "code",
   "execution_count": 6,
   "metadata": {},
   "outputs": [
    {
     "data": {
      "text/html": [
       "<div>\n",
       "<style scoped>\n",
       "    .dataframe tbody tr th:only-of-type {\n",
       "        vertical-align: middle;\n",
       "    }\n",
       "\n",
       "    .dataframe tbody tr th {\n",
       "        vertical-align: top;\n",
       "    }\n",
       "\n",
       "    .dataframe thead th {\n",
       "        text-align: right;\n",
       "    }\n",
       "</style>\n",
       "<table border=\"1\" class=\"dataframe\">\n",
       "  <thead>\n",
       "    <tr style=\"text-align: right;\">\n",
       "      <th></th>\n",
       "      <th>Year</th>\n",
       "      <th>Country</th>\n",
       "      <th>Activity</th>\n",
       "      <th>Name</th>\n",
       "      <th>Sex</th>\n",
       "      <th>Age</th>\n",
       "      <th>Fatal (Y/N)</th>\n",
       "    </tr>\n",
       "  </thead>\n",
       "  <tbody>\n",
       "    <tr>\n",
       "      <td>0</td>\n",
       "      <td>2016</td>\n",
       "      <td>USA</td>\n",
       "      <td>Surfing</td>\n",
       "      <td>male</td>\n",
       "      <td>M</td>\n",
       "      <td>16</td>\n",
       "      <td>N</td>\n",
       "    </tr>\n",
       "    <tr>\n",
       "      <td>1</td>\n",
       "      <td>2016</td>\n",
       "      <td>USA</td>\n",
       "      <td>Surfing</td>\n",
       "      <td>Chucky Luciano</td>\n",
       "      <td>M</td>\n",
       "      <td>36</td>\n",
       "      <td>N</td>\n",
       "    </tr>\n",
       "    <tr>\n",
       "      <td>2</td>\n",
       "      <td>2016</td>\n",
       "      <td>USA</td>\n",
       "      <td>Surfing</td>\n",
       "      <td>male</td>\n",
       "      <td>M</td>\n",
       "      <td>43</td>\n",
       "      <td>N</td>\n",
       "    </tr>\n",
       "    <tr>\n",
       "      <td>3</td>\n",
       "      <td>2016</td>\n",
       "      <td>AUSTRALIA</td>\n",
       "      <td>Surfing</td>\n",
       "      <td>Rory Angiolella</td>\n",
       "      <td>M</td>\n",
       "      <td>NaN</td>\n",
       "      <td>N</td>\n",
       "    </tr>\n",
       "    <tr>\n",
       "      <td>4</td>\n",
       "      <td>2016</td>\n",
       "      <td>AUSTRALIA</td>\n",
       "      <td>Surfing</td>\n",
       "      <td>male</td>\n",
       "      <td>M</td>\n",
       "      <td>NaN</td>\n",
       "      <td>N</td>\n",
       "    </tr>\n",
       "  </tbody>\n",
       "</table>\n",
       "</div>"
      ],
      "text/plain": [
       "   Year    Country Activity             Name Sex  Age Fatal (Y/N)\n",
       "0  2016        USA  Surfing             male   M   16           N\n",
       "1  2016        USA  Surfing   Chucky Luciano   M   36           N\n",
       "2  2016        USA  Surfing             male   M   43           N\n",
       "3  2016  AUSTRALIA  Surfing  Rory Angiolella   M  NaN           N\n",
       "4  2016  AUSTRALIA  Surfing             male   M  NaN           N"
      ]
     },
     "execution_count": 6,
     "metadata": {},
     "output_type": "execute_result"
    }
   ],
   "source": [
    "# Fixing the name of the columns \"Sex\", it has an extra space at the end.\n",
    "\n",
    "df = df.rename(columns={\"Sex \":\"Sex\"})\n",
    "df.head()"
   ]
  },
  {
   "cell_type": "code",
   "execution_count": 7,
   "metadata": {},
   "outputs": [
    {
     "name": "stdout",
     "output_type": "stream",
     "text": [
      "F           548\n",
      "M          4268\n",
      "Unknown     508\n",
      "Name: Sex, dtype: int64\n"
     ]
    }
   ],
   "source": [
    "# Cleaning the \"Sex\" column\n",
    "\n",
    "df[\"Sex\"]= df[\"Sex\"].fillna(\"Unknown\")\n",
    "\n",
    "df[\"Sex\"] = df[\"Sex\"].apply(sex_filter)\n",
    "\n",
    "print(df[\"Sex\"].value_counts().sort_index())"
   ]
  },
  {
   "cell_type": "code",
   "execution_count": 8,
   "metadata": {},
   "outputs": [],
   "source": [
    "# Renaming the \"fatal\" column \n",
    "\n",
    "df = df.rename(columns={\"Fatal (Y/N)\":\"Fatal\"})\n",
    "df[\"Fatal\"]= df[\"Fatal\"].fillna(\"Unknown\")\n"
   ]
  },
  {
   "cell_type": "code",
   "execution_count": 9,
   "metadata": {},
   "outputs": [
    {
     "name": "stdout",
     "output_type": "stream",
     "text": [
      "N          4036\n",
      "Unknown      85\n",
      "Y          1203\n",
      "Name: Fatal, dtype: int64\n"
     ]
    }
   ],
   "source": [
    "# Cleaning \"fatal\" column\n",
    "\n",
    "df[\"Fatal\"]= df[\"Fatal\"].fillna(\"Unknown\")\n",
    "df[\"Fatal\"] = df[\"Fatal\"].apply(fatal_filter)\n",
    "\n",
    "print(df[\"Fatal\"].value_counts().sort_index())"
   ]
  },
  {
   "cell_type": "code",
   "execution_count": 10,
   "metadata": {},
   "outputs": [
    {
     "name": "stdout",
     "output_type": "stream",
     "text": [
      "IRELAND                1\n",
      "NORTH SEA              1\n",
      "THE BALKANS            1\n",
      "GABON                  1\n",
      "Seychelles             1\n",
      "                    ... \n",
      "BRAZIL               100\n",
      "PAPUA NEW GUINEA     129\n",
      "SOUTH AFRICA         535\n",
      "AUSTRALIA           1124\n",
      "USA                 1992\n",
      "Name: Country, Length: 168, dtype: int64\n"
     ]
    }
   ],
   "source": [
    "# Cleaning \"Country\" column\n",
    "\n",
    "df[\"Country\"]= df[\"Country\"].fillna(\"Country\")\n",
    "df[\"Country\"] = df[\"Country\"].apply(space_cleaner)\n",
    "\n",
    "print(df[\"Country\"].value_counts().sort_values())"
   ]
  },
  {
   "cell_type": "code",
   "execution_count": 11,
   "metadata": {},
   "outputs": [
    {
     "data": {
      "text/plain": [
       "{0,\n",
       " 1,\n",
       " '1',\n",
       " 10,\n",
       " '10',\n",
       " 11,\n",
       " '11',\n",
       " 12,\n",
       " '12',\n",
       " '13',\n",
       " 14,\n",
       " '14',\n",
       " 15,\n",
       " '15',\n",
       " 16,\n",
       " '16',\n",
       " 17,\n",
       " '17',\n",
       " '18',\n",
       " 19,\n",
       " '19',\n",
       " 20,\n",
       " '20',\n",
       " '21',\n",
       " 21,\n",
       " '22',\n",
       " 23,\n",
       " '23',\n",
       " 24,\n",
       " '24',\n",
       " 25,\n",
       " '25',\n",
       " 26,\n",
       " '26',\n",
       " 27,\n",
       " '27',\n",
       " 28,\n",
       " '28',\n",
       " 29,\n",
       " '29',\n",
       " '3',\n",
       " 30,\n",
       " '30',\n",
       " 31,\n",
       " '31',\n",
       " 32,\n",
       " '32',\n",
       " 33,\n",
       " '33',\n",
       " '34',\n",
       " 35,\n",
       " '35',\n",
       " '36',\n",
       " '37',\n",
       " '38',\n",
       " '39',\n",
       " 39,\n",
       " 40,\n",
       " '40',\n",
       " '41',\n",
       " '42',\n",
       " '43',\n",
       " '44',\n",
       " '45',\n",
       " '46',\n",
       " '47',\n",
       " '48',\n",
       " '49',\n",
       " '5',\n",
       " 50,\n",
       " '50',\n",
       " '51',\n",
       " '52',\n",
       " '53',\n",
       " '54',\n",
       " 55,\n",
       " '55',\n",
       " '56',\n",
       " '57',\n",
       " '58',\n",
       " '59',\n",
       " 6,\n",
       " '6',\n",
       " 60,\n",
       " '60',\n",
       " '61',\n",
       " '62',\n",
       " '63',\n",
       " '64',\n",
       " '65',\n",
       " '66',\n",
       " '67',\n",
       " '68',\n",
       " '69',\n",
       " 7,\n",
       " '7',\n",
       " '70',\n",
       " '71',\n",
       " '72',\n",
       " '73',\n",
       " '74',\n",
       " '75',\n",
       " '77',\n",
       " '78',\n",
       " '8',\n",
       " 80,\n",
       " '81',\n",
       " '84',\n",
       " '86',\n",
       " '87',\n",
       " 9,\n",
       " '9',\n",
       " 'Unknown'}"
      ]
     },
     "execution_count": 11,
     "metadata": {},
     "output_type": "execute_result"
    }
   ],
   "source": [
    "# Cleaning \"age\" column\n",
    "\n",
    "df[\"Age\"]= df[\"Age\"].fillna(\"Unknown\")\n",
    "df[\"Age\"] = df[\"Age\"].apply(age_cleaner)\n",
    "\n",
    "set(df[\"Age\"])"
   ]
  },
  {
   "cell_type": "code",
   "execution_count": null,
   "metadata": {},
   "outputs": [],
   "source": []
  },
  {
   "cell_type": "code",
   "execution_count": null,
   "metadata": {},
   "outputs": [],
   "source": [
    "\n"
   ]
  },
  {
   "cell_type": "code",
   "execution_count": null,
   "metadata": {},
   "outputs": [],
   "source": []
  }
 ],
 "metadata": {
  "kernelspec": {
   "display_name": "Python 3",
   "language": "python",
   "name": "python3"
  },
  "language_info": {
   "codemirror_mode": {
    "name": "ipython",
    "version": 3
   },
   "file_extension": ".py",
   "mimetype": "text/x-python",
   "name": "python",
   "nbconvert_exporter": "python",
   "pygments_lexer": "ipython3",
   "version": "3.7.4"
  }
 },
 "nbformat": 4,
 "nbformat_minor": 2
}
