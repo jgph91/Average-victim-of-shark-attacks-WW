{
 "cells": [
  {
   "cell_type": "markdown",
   "metadata": {},
   "source": [
    "# Sharks attacks"
   ]
  },
  {
   "cell_type": "code",
   "execution_count": 1,
   "metadata": {},
   "outputs": [],
   "source": [
    "# modules import\n",
    "import re\n",
    "import pandas as pd\n",
    "import matplotlib.pyplot as plt\n",
    "from src.functions import sex_filter,fatal_filter,space_cleaner,age_cleaner,integer"
   ]
  },
  {
   "cell_type": "code",
   "execution_count": 2,
   "metadata": {},
   "outputs": [
    {
     "data": {
      "text/html": [
       "<div>\n",
       "<style scoped>\n",
       "    .dataframe tbody tr th:only-of-type {\n",
       "        vertical-align: middle;\n",
       "    }\n",
       "\n",
       "    .dataframe tbody tr th {\n",
       "        vertical-align: top;\n",
       "    }\n",
       "\n",
       "    .dataframe thead th {\n",
       "        text-align: right;\n",
       "    }\n",
       "</style>\n",
       "<table border=\"1\" class=\"dataframe\">\n",
       "  <thead>\n",
       "    <tr style=\"text-align: right;\">\n",
       "      <th></th>\n",
       "      <th>Year</th>\n",
       "      <th>Country</th>\n",
       "      <th>Activity</th>\n",
       "      <th>Sex</th>\n",
       "      <th>Age</th>\n",
       "      <th>Fatal (Y/N)</th>\n",
       "    </tr>\n",
       "  </thead>\n",
       "  <tbody>\n",
       "    <tr>\n",
       "      <td>0</td>\n",
       "      <td>2016</td>\n",
       "      <td>USA</td>\n",
       "      <td>Surfing</td>\n",
       "      <td>M</td>\n",
       "      <td>16</td>\n",
       "      <td>N</td>\n",
       "    </tr>\n",
       "    <tr>\n",
       "      <td>1</td>\n",
       "      <td>2016</td>\n",
       "      <td>USA</td>\n",
       "      <td>Surfing</td>\n",
       "      <td>M</td>\n",
       "      <td>36</td>\n",
       "      <td>N</td>\n",
       "    </tr>\n",
       "    <tr>\n",
       "      <td>2</td>\n",
       "      <td>2016</td>\n",
       "      <td>USA</td>\n",
       "      <td>Surfing</td>\n",
       "      <td>M</td>\n",
       "      <td>43</td>\n",
       "      <td>N</td>\n",
       "    </tr>\n",
       "    <tr>\n",
       "      <td>3</td>\n",
       "      <td>2016</td>\n",
       "      <td>AUSTRALIA</td>\n",
       "      <td>Surfing</td>\n",
       "      <td>M</td>\n",
       "      <td>NaN</td>\n",
       "      <td>N</td>\n",
       "    </tr>\n",
       "    <tr>\n",
       "      <td>4</td>\n",
       "      <td>2016</td>\n",
       "      <td>AUSTRALIA</td>\n",
       "      <td>Surfing</td>\n",
       "      <td>M</td>\n",
       "      <td>NaN</td>\n",
       "      <td>N</td>\n",
       "    </tr>\n",
       "  </tbody>\n",
       "</table>\n",
       "</div>"
      ],
      "text/plain": [
       "   Year    Country Activity Sex   Age Fatal (Y/N)\n",
       "0  2016        USA  Surfing    M   16           N\n",
       "1  2016        USA  Surfing    M   36           N\n",
       "2  2016        USA  Surfing    M   43           N\n",
       "3  2016  AUSTRALIA  Surfing    M  NaN           N\n",
       "4  2016  AUSTRALIA  Surfing    M  NaN           N"
      ]
     },
     "execution_count": 2,
     "metadata": {},
     "output_type": "execute_result"
    }
   ],
   "source": [
    "# Database import from Kaggle's csv\n",
    "\n",
    "data = pd.read_csv(\"./input/GSAF5.csv\",encoding='cp1252')\n",
    "\n",
    "df = pd.DataFrame(data)\n",
    "df = df[[\"Year\",\"Country\",\"Activity\",\"Sex \",\"Age\",\"Fatal (Y/N)\"]]\n",
    "\n",
    "df.head()"
   ]
  },
  {
   "cell_type": "code",
   "execution_count": 3,
   "metadata": {},
   "outputs": [
    {
     "data": {
      "text/plain": [
       "Country          43\n",
       "Activity        527\n",
       "Sex             567\n",
       "Age            2681\n",
       "Fatal (Y/N)      19\n",
       "dtype: int64"
      ]
     },
     "execution_count": 3,
     "metadata": {},
     "output_type": "execute_result"
    }
   ],
   "source": [
    "# Checking nulls\n",
    "\n",
    "null_cols = df.isnull().sum()\n",
    "null_cols\n",
    "null_cols[null_cols > 0]"
   ]
  },
  {
   "cell_type": "code",
   "execution_count": 4,
   "metadata": {},
   "outputs": [
    {
     "name": "stdout",
     "output_type": "stream",
     "text": [
      "Year            int64\n",
      "Country        object\n",
      "Activity       object\n",
      "Sex            object\n",
      "Age            object\n",
      "Fatal (Y/N)    object\n",
      "dtype: object\n"
     ]
    }
   ],
   "source": [
    "#Columns data types\n",
    "\n",
    "print(df.dtypes)"
   ]
  },
  {
   "cell_type": "code",
   "execution_count": 5,
   "metadata": {},
   "outputs": [
    {
     "name": "stdout",
     "output_type": "stream",
     "text": [
      "There are  5324  results.\n"
     ]
    }
   ],
   "source": [
    "# Filtering by year (1900-2016)\n",
    "\n",
    "df = df[(df[\"Year\"]>= 1900)]\n",
    "\n",
    "#number of values matching the report range\n",
    "\n",
    "print(\"There are \",df.shape[0],\" results.\")"
   ]
  },
  {
   "cell_type": "code",
   "execution_count": 6,
   "metadata": {},
   "outputs": [
    {
     "name": "stdout",
     "output_type": "stream",
     "text": [
      "M          4268\n",
      "F           548\n",
      "Unknown     508\n",
      "Name: Sex, dtype: int64\n"
     ]
    }
   ],
   "source": [
    "# Fixing the name of the columns \"Sex\", it has an extra space at the end.\n",
    "\n",
    "df = df.rename(columns={\"Sex \":\"Sex\"})\n",
    "\n",
    "# Cleaning the \"Sex\" column\n",
    "\n",
    "df[\"Sex\"]= df[\"Sex\"].fillna(\"Unknown\")\n",
    "df[\"Sex\"] = df[\"Sex\"].apply(sex_filter)\n",
    "print(df[\"Sex\"].value_counts().sort_values(ascending = False))"
   ]
  },
  {
   "cell_type": "code",
   "execution_count": 7,
   "metadata": {},
   "outputs": [
    {
     "data": {
      "text/html": [
       "<div>\n",
       "<style scoped>\n",
       "    .dataframe tbody tr th:only-of-type {\n",
       "        vertical-align: middle;\n",
       "    }\n",
       "\n",
       "    .dataframe tbody tr th {\n",
       "        vertical-align: top;\n",
       "    }\n",
       "\n",
       "    .dataframe thead th {\n",
       "        text-align: right;\n",
       "    }\n",
       "</style>\n",
       "<table border=\"1\" class=\"dataframe\">\n",
       "  <thead>\n",
       "    <tr style=\"text-align: right;\">\n",
       "      <th></th>\n",
       "      <th>Count</th>\n",
       "    </tr>\n",
       "    <tr>\n",
       "      <th>Sex</th>\n",
       "      <th></th>\n",
       "    </tr>\n",
       "  </thead>\n",
       "  <tbody>\n",
       "    <tr>\n",
       "      <td>M</td>\n",
       "      <td>4268</td>\n",
       "    </tr>\n",
       "    <tr>\n",
       "      <td>F</td>\n",
       "      <td>548</td>\n",
       "    </tr>\n",
       "  </tbody>\n",
       "</table>\n",
       "</div>"
      ],
      "text/plain": [
       "     Count\n",
       "Sex       \n",
       "M     4268\n",
       "F      548"
      ]
     },
     "execution_count": 7,
     "metadata": {},
     "output_type": "execute_result"
    }
   ],
   "source": [
    "# Distribution of sharks attacks by sex of the victim\n",
    "\n",
    "sex_table = df[[\"Sex\",\"Year\"]]\n",
    "sex_table = sex_table.rename(columns={\"Year\":\"Count\"})\n",
    "sex_table = sex_table[(sex_table[\"Sex\"] != \"Unknown\")]\n",
    "sex_table = sex_table.groupby([\"Sex\"]).count()\n",
    "sex_table = sex_table.sort_values(by = [\"Count\"],ascending = False)\n",
    "sex_table.head(5)"
   ]
  },
  {
   "cell_type": "code",
   "execution_count": 8,
   "metadata": {},
   "outputs": [
    {
     "name": "stderr",
     "output_type": "stream",
     "text": [
      "/home/javier/anaconda3/lib/python3.7/site-packages/ipykernel_launcher.py:4: MatplotlibDeprecationWarning: Non-1D inputs to pie() are currently squeeze()d, but this behavior is deprecated since 3.1 and will be removed in 3.3; pass a 1D array instead.\n",
      "  after removing the cwd from sys.path.\n"
     ]
    },
    {
     "data": {
      "image/png": "[encoded data removed]",
      "text/plain": [
       "<Figure size 432x288 with 1 Axes>"
      ]
     },
     "metadata": {},
     "output_type": "display_data"
    }
   ],
   "source": [
    "#pie graph for sharks attacks by sex\n",
    "\n",
    "sex_labels = [\"M\",\"F\"]\n",
    "plt.pie(sex_table,labels = sex_labels)\n",
    "plt.show()"
   ]
  },
  {
   "cell_type": "code",
   "execution_count": 9,
   "metadata": {},
   "outputs": [
    {
     "name": "stdout",
     "output_type": "stream",
     "text": [
      "N          4036\n",
      "Y          1203\n",
      "Unknown      85\n",
      "Name: Fatal, dtype: int64\n"
     ]
    }
   ],
   "source": [
    "# Renaming the \"fatal\" column \n",
    "\n",
    "df = df.rename(columns={\"Fatal (Y/N)\":\"Fatal\"})\n",
    "\n",
    "# Cleaning \"fatal\" column\n",
    "\n",
    "df[\"Fatal\"]= df[\"Fatal\"].fillna(\"Unknown\")\n",
    "df[\"Fatal\"] = df[\"Fatal\"].apply(fatal_filter)\n",
    "print(df[\"Fatal\"].value_counts().sort_values(ascending = False))"
   ]
  },
  {
   "cell_type": "code",
   "execution_count": 10,
   "metadata": {},
   "outputs": [
    {
     "data": {
      "text/html": [
       "<div>\n",
       "<style scoped>\n",
       "    .dataframe tbody tr th:only-of-type {\n",
       "        vertical-align: middle;\n",
       "    }\n",
       "\n",
       "    .dataframe tbody tr th {\n",
       "        vertical-align: top;\n",
       "    }\n",
       "\n",
       "    .dataframe thead th {\n",
       "        text-align: right;\n",
       "    }\n",
       "</style>\n",
       "<table border=\"1\" class=\"dataframe\">\n",
       "  <thead>\n",
       "    <tr style=\"text-align: right;\">\n",
       "      <th></th>\n",
       "      <th>Count</th>\n",
       "    </tr>\n",
       "    <tr>\n",
       "      <th>Fatal</th>\n",
       "      <th></th>\n",
       "    </tr>\n",
       "  </thead>\n",
       "  <tbody>\n",
       "    <tr>\n",
       "      <td>N</td>\n",
       "      <td>4036</td>\n",
       "    </tr>\n",
       "    <tr>\n",
       "      <td>Y</td>\n",
       "      <td>1203</td>\n",
       "    </tr>\n",
       "  </tbody>\n",
       "</table>\n",
       "</div>"
      ],
      "text/plain": [
       "       Count\n",
       "Fatal       \n",
       "N       4036\n",
       "Y       1203"
      ]
     },
     "execution_count": 10,
     "metadata": {},
     "output_type": "execute_result"
    }
   ],
   "source": [
    "# Distribution of sharks attacks by fatal\n",
    "\n",
    "fatal_table = df[[\"Fatal\",\"Year\"]]\n",
    "fatal_table = fatal_table.rename(columns={\"Year\":\"Count\"})\n",
    "fatal_table = fatal_table[(fatal_table[\"Fatal\"]!= \"Unknown\")]\n",
    "fatal_table = fatal_table.groupby([\"Fatal\"]).count()\n",
    "fatal_table = fatal_table.sort_values(by = [\"Count\"],ascending = False)\n",
    "\n",
    "fatal_table.head(5)"
   ]
  },
  {
   "cell_type": "code",
   "execution_count": 11,
   "metadata": {},
   "outputs": [
    {
     "name": "stderr",
     "output_type": "stream",
     "text": [
      "/home/javier/anaconda3/lib/python3.7/site-packages/ipykernel_launcher.py:4: MatplotlibDeprecationWarning: Non-1D inputs to pie() are currently squeeze()d, but this behavior is deprecated since 3.1 and will be removed in 3.3; pass a 1D array instead.\n",
      "  after removing the cwd from sys.path.\n"
     ]
    },
    {
     "data": {
      "image/png": "[encoded data removed]",
      "text/plain": [
       "<Figure size 432x288 with 1 Axes>"
      ]
     },
     "metadata": {},
     "output_type": "display_data"
    }
   ],
   "source": [
    "#pie graph for sharks attacks by fatals\n",
    "\n",
    "fatal_labels = [\"N\",\"Y\"]\n",
    "plt.pie(fatal_table,labels = fatal_labels)\n",
    "plt.show()"
   ]
  },
  {
   "cell_type": "code",
   "execution_count": 12,
   "metadata": {},
   "outputs": [
    {
     "name": "stdout",
     "output_type": "stream",
     "text": [
      "USA                           1992\n",
      "AUSTRALIA                     1124\n",
      "SOUTH AFRICA                   535\n",
      "PAPUA NEW GUINEA               129\n",
      "BRAZIL                         100\n",
      "                              ... \n",
      "URUGUAY                          1\n",
      "BRITISH VIRGIN ISLANDS           1\n",
      "Seychelles                       1\n",
      "IRELAND                          1\n",
      "ANDAMAN / NICOBAR ISLANDAS       1\n",
      "Name: Country, Length: 168, dtype: int64\n"
     ]
    }
   ],
   "source": [
    "# Cleaning \"Country\" column\n",
    "\n",
    "df[\"Country\"]= df[\"Country\"].fillna(\"Unknown\")\n",
    "df[\"Country\"] = df[\"Country\"].apply(space_cleaner)\n",
    "print(df[\"Country\"].value_counts().sort_values(ascending = False))"
   ]
  },
  {
   "cell_type": "code",
   "execution_count": 13,
   "metadata": {},
   "outputs": [
    {
     "data": {
      "text/html": [
       "<div>\n",
       "<style scoped>\n",
       "    .dataframe tbody tr th:only-of-type {\n",
       "        vertical-align: middle;\n",
       "    }\n",
       "\n",
       "    .dataframe tbody tr th {\n",
       "        vertical-align: top;\n",
       "    }\n",
       "\n",
       "    .dataframe thead th {\n",
       "        text-align: right;\n",
       "    }\n",
       "</style>\n",
       "<table border=\"1\" class=\"dataframe\">\n",
       "  <thead>\n",
       "    <tr style=\"text-align: right;\">\n",
       "      <th></th>\n",
       "      <th>Count</th>\n",
       "    </tr>\n",
       "    <tr>\n",
       "      <th>Country</th>\n",
       "      <th></th>\n",
       "    </tr>\n",
       "  </thead>\n",
       "  <tbody>\n",
       "    <tr>\n",
       "      <td>USA</td>\n",
       "      <td>1992</td>\n",
       "    </tr>\n",
       "    <tr>\n",
       "      <td>AUSTRALIA</td>\n",
       "      <td>1124</td>\n",
       "    </tr>\n",
       "    <tr>\n",
       "      <td>SOUTH AFRICA</td>\n",
       "      <td>535</td>\n",
       "    </tr>\n",
       "    <tr>\n",
       "      <td>PAPUA NEW GUINEA</td>\n",
       "      <td>129</td>\n",
       "    </tr>\n",
       "    <tr>\n",
       "      <td>BRAZIL</td>\n",
       "      <td>100</td>\n",
       "    </tr>\n",
       "  </tbody>\n",
       "</table>\n",
       "</div>"
      ],
      "text/plain": [
       "                  Count\n",
       "Country                \n",
       "USA                1992\n",
       "AUSTRALIA          1124\n",
       "SOUTH AFRICA        535\n",
       "PAPUA NEW GUINEA    129\n",
       "BRAZIL              100"
      ]
     },
     "execution_count": 13,
     "metadata": {},
     "output_type": "execute_result"
    }
   ],
   "source": [
    "# Distribution of sharks attacks by country\n",
    "\n",
    "country_table = df[[\"Country\",\"Year\"]]\n",
    "country_table = country_table.rename(columns={\"Year\":\"Count\"})\n",
    "country_table = country_table[(country_table[\"Country\"]!= \"Unknown\")]\n",
    "country_table = country_table.groupby([\"Country\"]).count()\n",
    "country_table = country_table.sort_values(by = [\"Count\"],ascending = False)\n",
    "\n",
    "country_table.head(5)"
   ]
  },
  {
   "cell_type": "code",
   "execution_count": 14,
   "metadata": {},
   "outputs": [
    {
     "name": "stdout",
     "output_type": "stream",
     "text": [
      "Unknown    2113\n",
      "17          143\n",
      "18          139\n",
      "20          133\n",
      "16          132\n",
      "           ... \n",
      "12            1\n",
      "14            1\n",
      "17            1\n",
      "7             1\n",
      "0             1\n",
      "Name: Age, Length: 113, dtype: int64\n"
     ]
    }
   ],
   "source": [
    "# Cleaning \"age\" column\n",
    "\n",
    "df[\"Age\"]= df[\"Age\"].fillna(\"Unknown\")\n",
    "df[\"Age\"] = df[\"Age\"].apply(age_cleaner)\n",
    "\n",
    "set(df[\"Age\"])\n",
    "print(df[\"Age\"].value_counts().sort_values(ascending = False))"
   ]
  },
  {
   "cell_type": "code",
   "execution_count": 15,
   "metadata": {},
   "outputs": [
    {
     "name": "stdout",
     "output_type": "stream",
     "text": [
      "27.22\n"
     ]
    },
    {
     "name": "stderr",
     "output_type": "stream",
     "text": [
      "/home/javier/anaconda3/lib/python3.7/site-packages/ipykernel_launcher.py:4: SettingWithCopyWarning: \n",
      "A value is trying to be set on a copy of a slice from a DataFrame.\n",
      "Try using .loc[row_indexer,col_indexer] = value instead\n",
      "\n",
      "See the caveats in the documentation: http://pandas.pydata.org/pandas-docs/stable/user_guide/indexing.html#returning-a-view-versus-a-copy\n",
      "  after removing the cwd from sys.path.\n"
     ]
    }
   ],
   "source": [
    "# Mean age of the victim\n",
    "\n",
    "age_table = df[(df[\"Age\"]!= \"Unknown\")]\n",
    "age_table[\"Age\"] = age_table[\"Age\"].apply(integer)\n",
    "print(round(age_table[\"Age\"].mean(),2))"
   ]
  },
  {
   "cell_type": "code",
   "execution_count": 16,
   "metadata": {},
   "outputs": [
    {
     "data": {
      "text/html": [
       "<div>\n",
       "<style scoped>\n",
       "    .dataframe tbody tr th:only-of-type {\n",
       "        vertical-align: middle;\n",
       "    }\n",
       "\n",
       "    .dataframe tbody tr th {\n",
       "        vertical-align: top;\n",
       "    }\n",
       "\n",
       "    .dataframe thead th {\n",
       "        text-align: right;\n",
       "    }\n",
       "</style>\n",
       "<table border=\"1\" class=\"dataframe\">\n",
       "  <thead>\n",
       "    <tr style=\"text-align: right;\">\n",
       "      <th></th>\n",
       "      <th>Count</th>\n",
       "    </tr>\n",
       "    <tr>\n",
       "      <th>Age</th>\n",
       "      <th></th>\n",
       "    </tr>\n",
       "  </thead>\n",
       "  <tbody>\n",
       "    <tr>\n",
       "      <td>17</td>\n",
       "      <td>143</td>\n",
       "    </tr>\n",
       "    <tr>\n",
       "      <td>18</td>\n",
       "      <td>139</td>\n",
       "    </tr>\n",
       "    <tr>\n",
       "      <td>20</td>\n",
       "      <td>133</td>\n",
       "    </tr>\n",
       "    <tr>\n",
       "      <td>16</td>\n",
       "      <td>132</td>\n",
       "    </tr>\n",
       "    <tr>\n",
       "      <td>19</td>\n",
       "      <td>132</td>\n",
       "    </tr>\n",
       "  </tbody>\n",
       "</table>\n",
       "</div>"
      ],
      "text/plain": [
       "     Count\n",
       "Age       \n",
       "17     143\n",
       "18     139\n",
       "20     133\n",
       "16     132\n",
       "19     132"
      ]
     },
     "execution_count": 16,
     "metadata": {},
     "output_type": "execute_result"
    }
   ],
   "source": [
    "# Distribution of sharks attacks by age of the victim\n",
    "\n",
    "age_table = df[[\"Age\",\"Year\"]]\n",
    "age_table = age_table.rename(columns={\"Year\":\"Count\"})\n",
    "age_table = age_table[(age_table[\"Age\"]!= \"Unknown\")]\n",
    "age_table = age_table.groupby([\"Age\"]).count()\n",
    "age_table = age_table.sort_values(by = [\"Count\"],ascending = False)\n",
    "\n",
    "age_table.head(5)"
   ]
  },
  {
   "cell_type": "code",
   "execution_count": 17,
   "metadata": {},
   "outputs": [
    {
     "data": {
      "text/html": [
       "<div>\n",
       "<style scoped>\n",
       "    .dataframe tbody tr th:only-of-type {\n",
       "        vertical-align: middle;\n",
       "    }\n",
       "\n",
       "    .dataframe tbody tr th {\n",
       "        vertical-align: top;\n",
       "    }\n",
       "\n",
       "    .dataframe thead th {\n",
       "        text-align: right;\n",
       "    }\n",
       "</style>\n",
       "<table border=\"1\" class=\"dataframe\">\n",
       "  <thead>\n",
       "    <tr style=\"text-align: right;\">\n",
       "      <th></th>\n",
       "      <th>Count</th>\n",
       "    </tr>\n",
       "    <tr>\n",
       "      <th>Activity</th>\n",
       "      <th></th>\n",
       "    </tr>\n",
       "  </thead>\n",
       "  <tbody>\n",
       "    <tr>\n",
       "      <td>Other</td>\n",
       "      <td>1780</td>\n",
       "    </tr>\n",
       "    <tr>\n",
       "      <td>Surfing</td>\n",
       "      <td>1180</td>\n",
       "    </tr>\n",
       "    <tr>\n",
       "      <td>Fishing</td>\n",
       "      <td>1020</td>\n",
       "    </tr>\n",
       "    <tr>\n",
       "      <td>Swimming</td>\n",
       "      <td>914</td>\n",
       "    </tr>\n",
       "  </tbody>\n",
       "</table>\n",
       "</div>"
      ],
      "text/plain": [
       "          Count\n",
       "Activity       \n",
       "Other      1780\n",
       "Surfing    1180\n",
       "Fishing    1020\n",
       "Swimming    914"
      ]
     },
     "execution_count": 17,
     "metadata": {},
     "output_type": "execute_result"
    }
   ],
   "source": [
    "#Cleaning the \"activity\" column\n",
    "\n",
    "df[\"Activity\"]= df[\"Activity\"].fillna(\"Unknown\")\n",
    "set(df[\"Activity\"])\n",
    "lst = []\n",
    "\n",
    "for e in df[\"Activity\"]:\n",
    "    if re.search(r\"surf|Surf\",e):\n",
    "        e = \"Surfing\"\n",
    "        lst.append(e)\n",
    "    elif re.search(r\"swim|Swim\",e):\n",
    "        e = \"Swimming\"\n",
    "        lst.append(e)\n",
    "    elif re.search(r\"fishi|Fishi\",e):\n",
    "        e = \"Fishing\"\n",
    "        lst.append(e)\n",
    "    elif re.search(r\"Unknown\",e):\n",
    "        e = \"Unknown\"\n",
    "        lst.append(e)\n",
    "    else:\n",
    "        e = \"Other\"\n",
    "        lst.append(e)        \n",
    "      \n",
    "df[\"Activity\"] = lst\n",
    "\n",
    "activity_table = df[[\"Activity\",\"Year\"]]\n",
    "activity_table = activity_table.rename(columns={\"Year\":\"Count\"})\n",
    "activity_table = activity_table[(activity_table[\"Activity\"]!= \"Unknown\")]\n",
    "activity_table = activity_table.groupby([\"Activity\"]).count()\n",
    "activity_table = activity_table.sort_values(by = [\"Count\"],ascending = False)\n",
    "\n",
    "activity_table.head(5)"
   ]
  },
  {
   "cell_type": "code",
   "execution_count": 18,
   "metadata": {},
   "outputs": [
    {
     "name": "stderr",
     "output_type": "stream",
     "text": [
      "/home/javier/anaconda3/lib/python3.7/site-packages/ipykernel_launcher.py:4: MatplotlibDeprecationWarning: Non-1D inputs to pie() are currently squeeze()d, but this behavior is deprecated since 3.1 and will be removed in 3.3; pass a 1D array instead.\n",
      "  after removing the cwd from sys.path.\n"
     ]
    },
    {
     "data": {
      "image/png": "[encoded data removed]",
      "text/plain": [
       "<Figure size 432x288 with 1 Axes>"
      ]
     },
     "metadata": {},
     "output_type": "display_data"
    }
   ],
   "source": [
    "# Distribution of sharks attacks by activity\n",
    "\n",
    "activity_labels = [\"Other\",\"Surfing\",\"Fishing\",\"Swimming\"]\n",
    "plt.pie(activity_table,labels = activity_labels)\n",
    "plt.show()"
   ]
  },
  {
   "cell_type": "code",
   "execution_count": 19,
   "metadata": {},
   "outputs": [
    {
     "data": {
      "text/html": [
       "<div>\n",
       "<style scoped>\n",
       "    .dataframe tbody tr th:only-of-type {\n",
       "        vertical-align: middle;\n",
       "    }\n",
       "\n",
       "    .dataframe tbody tr th {\n",
       "        vertical-align: top;\n",
       "    }\n",
       "\n",
       "    .dataframe thead th {\n",
       "        text-align: right;\n",
       "    }\n",
       "</style>\n",
       "<table border=\"1\" class=\"dataframe\">\n",
       "  <thead>\n",
       "    <tr style=\"text-align: right;\">\n",
       "      <th></th>\n",
       "      <th>Year</th>\n",
       "      <th>Country</th>\n",
       "      <th>Sex</th>\n",
       "      <th>Age</th>\n",
       "      <th>Activity</th>\n",
       "      <th>Fatal</th>\n",
       "    </tr>\n",
       "  </thead>\n",
       "  <tbody>\n",
       "    <tr>\n",
       "      <td>0</td>\n",
       "      <td>2016</td>\n",
       "      <td>USA</td>\n",
       "      <td>M</td>\n",
       "      <td>16</td>\n",
       "      <td>Surfing</td>\n",
       "      <td>N</td>\n",
       "    </tr>\n",
       "    <tr>\n",
       "      <td>1</td>\n",
       "      <td>2016</td>\n",
       "      <td>USA</td>\n",
       "      <td>M</td>\n",
       "      <td>36</td>\n",
       "      <td>Surfing</td>\n",
       "      <td>N</td>\n",
       "    </tr>\n",
       "    <tr>\n",
       "      <td>2</td>\n",
       "      <td>2016</td>\n",
       "      <td>USA</td>\n",
       "      <td>M</td>\n",
       "      <td>43</td>\n",
       "      <td>Surfing</td>\n",
       "      <td>N</td>\n",
       "    </tr>\n",
       "    <tr>\n",
       "      <td>3</td>\n",
       "      <td>2016</td>\n",
       "      <td>AUSTRALIA</td>\n",
       "      <td>M</td>\n",
       "      <td>Unknown</td>\n",
       "      <td>Surfing</td>\n",
       "      <td>N</td>\n",
       "    </tr>\n",
       "    <tr>\n",
       "      <td>4</td>\n",
       "      <td>2016</td>\n",
       "      <td>AUSTRALIA</td>\n",
       "      <td>M</td>\n",
       "      <td>Unknown</td>\n",
       "      <td>Surfing</td>\n",
       "      <td>N</td>\n",
       "    </tr>\n",
       "    <tr>\n",
       "      <td>...</td>\n",
       "      <td>...</td>\n",
       "      <td>...</td>\n",
       "      <td>...</td>\n",
       "      <td>...</td>\n",
       "      <td>...</td>\n",
       "      <td>...</td>\n",
       "    </tr>\n",
       "    <tr>\n",
       "      <td>5320</td>\n",
       "      <td>1900</td>\n",
       "      <td>USA</td>\n",
       "      <td>M</td>\n",
       "      <td>Unknown</td>\n",
       "      <td>Other</td>\n",
       "      <td>Y</td>\n",
       "    </tr>\n",
       "    <tr>\n",
       "      <td>5321</td>\n",
       "      <td>1900</td>\n",
       "      <td>USA</td>\n",
       "      <td>Unknown</td>\n",
       "      <td>Unknown</td>\n",
       "      <td>Other</td>\n",
       "      <td>N</td>\n",
       "    </tr>\n",
       "    <tr>\n",
       "      <td>5322</td>\n",
       "      <td>1900</td>\n",
       "      <td>AUSTRALIA</td>\n",
       "      <td>M</td>\n",
       "      <td>Unknown</td>\n",
       "      <td>Other</td>\n",
       "      <td>N</td>\n",
       "    </tr>\n",
       "    <tr>\n",
       "      <td>5323</td>\n",
       "      <td>1900</td>\n",
       "      <td>USA</td>\n",
       "      <td>M</td>\n",
       "      <td>Unknown</td>\n",
       "      <td>Unknown</td>\n",
       "      <td>N</td>\n",
       "    </tr>\n",
       "    <tr>\n",
       "      <td>5324</td>\n",
       "      <td>1900</td>\n",
       "      <td>SOUTH AFRICA</td>\n",
       "      <td>M</td>\n",
       "      <td>Unknown</td>\n",
       "      <td>Swimming</td>\n",
       "      <td>N</td>\n",
       "    </tr>\n",
       "  </tbody>\n",
       "</table>\n",
       "<p>5324 rows × 6 columns</p>\n",
       "</div>"
      ],
      "text/plain": [
       "      Year       Country      Sex      Age  Activity Fatal\n",
       "0     2016           USA        M       16   Surfing     N\n",
       "1     2016           USA        M       36   Surfing     N\n",
       "2     2016           USA        M       43   Surfing     N\n",
       "3     2016     AUSTRALIA        M  Unknown   Surfing     N\n",
       "4     2016     AUSTRALIA        M  Unknown   Surfing     N\n",
       "...    ...           ...      ...      ...       ...   ...\n",
       "5320  1900           USA        M  Unknown     Other     Y\n",
       "5321  1900           USA  Unknown  Unknown     Other     N\n",
       "5322  1900     AUSTRALIA        M  Unknown     Other     N\n",
       "5323  1900           USA        M  Unknown   Unknown     N\n",
       "5324  1900  SOUTH AFRICA        M  Unknown  Swimming     N\n",
       "\n",
       "[5324 rows x 6 columns]"
      ]
     },
     "metadata": {},
     "output_type": "display_data"
    }
   ],
   "source": [
    "#Cleaned data frame\n",
    "\n",
    "df = df[[\"Year\",\"Country\",\"Sex\",\"Age\",\"Activity\",\"Fatal\"]]\n",
    "display(df)"
   ]
  },
  {
   "cell_type": "code",
   "execution_count": 20,
   "metadata": {},
   "outputs": [],
   "source": [
    "# Export to csv\n",
    "#df.to_csv(\"sharksattacks.csv\")"
   ]
  },
  {
   "cell_type": "code",
   "execution_count": null,
   "metadata": {},
   "outputs": [],
   "source": []
  }
 ],
 "metadata": {
  "kernelspec": {
   "display_name": "Python 3",
   "language": "python",
   "name": "python3"
  },
  "language_info": {
   "codemirror_mode": {
    "name": "ipython",
    "version": 3
   },
   "file_extension": ".py",
   "mimetype": "text/x-python",
   "name": "python",
   "nbconvert_exporter": "python",
   "pygments_lexer": "ipython3",
   "version": "3.7.4"
  }
 },
 "nbformat": 4,
 "nbformat_minor": 2
}
