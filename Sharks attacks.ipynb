{
 "cells": [
  {
   "cell_type": "markdown",
   "metadata": {},
   "source": [
    "# Sharks attacks"
   ]
  },
  {
   "cell_type": "code",
   "execution_count": 1,
   "metadata": {},
   "outputs": [],
   "source": [
    "# modules import\n",
    "import re\n",
    "import pandas as pd\n",
    "from src.functions import sex_filter,fatal_filter,space_cleaner,age_cleaner,integer,activity_cleaner"
   ]
  },
  {
   "cell_type": "code",
   "execution_count": 2,
   "metadata": {},
   "outputs": [
    {
     "data": {
      "text/html": [
       "<div>\n",
       "<style scoped>\n",
       "    .dataframe tbody tr th:only-of-type {\n",
       "        vertical-align: middle;\n",
       "    }\n",
       "\n",
       "    .dataframe tbody tr th {\n",
       "        vertical-align: top;\n",
       "    }\n",
       "\n",
       "    .dataframe thead th {\n",
       "        text-align: right;\n",
       "    }\n",
       "</style>\n",
       "<table border=\"1\" class=\"dataframe\">\n",
       "  <thead>\n",
       "    <tr style=\"text-align: right;\">\n",
       "      <th></th>\n",
       "      <th>Year</th>\n",
       "      <th>Country</th>\n",
       "      <th>Activity</th>\n",
       "      <th>Sex</th>\n",
       "      <th>Age</th>\n",
       "      <th>Fatal (Y/N)</th>\n",
       "    </tr>\n",
       "  </thead>\n",
       "  <tbody>\n",
       "    <tr>\n",
       "      <td>0</td>\n",
       "      <td>2016</td>\n",
       "      <td>USA</td>\n",
       "      <td>Surfing</td>\n",
       "      <td>M</td>\n",
       "      <td>16</td>\n",
       "      <td>N</td>\n",
       "    </tr>\n",
       "    <tr>\n",
       "      <td>1</td>\n",
       "      <td>2016</td>\n",
       "      <td>USA</td>\n",
       "      <td>Surfing</td>\n",
       "      <td>M</td>\n",
       "      <td>36</td>\n",
       "      <td>N</td>\n",
       "    </tr>\n",
       "    <tr>\n",
       "      <td>2</td>\n",
       "      <td>2016</td>\n",
       "      <td>USA</td>\n",
       "      <td>Surfing</td>\n",
       "      <td>M</td>\n",
       "      <td>43</td>\n",
       "      <td>N</td>\n",
       "    </tr>\n",
       "    <tr>\n",
       "      <td>3</td>\n",
       "      <td>2016</td>\n",
       "      <td>AUSTRALIA</td>\n",
       "      <td>Surfing</td>\n",
       "      <td>M</td>\n",
       "      <td>NaN</td>\n",
       "      <td>N</td>\n",
       "    </tr>\n",
       "    <tr>\n",
       "      <td>4</td>\n",
       "      <td>2016</td>\n",
       "      <td>AUSTRALIA</td>\n",
       "      <td>Surfing</td>\n",
       "      <td>M</td>\n",
       "      <td>NaN</td>\n",
       "      <td>N</td>\n",
       "    </tr>\n",
       "  </tbody>\n",
       "</table>\n",
       "</div>"
      ],
      "text/plain": [
       "   Year    Country Activity Sex   Age Fatal (Y/N)\n",
       "0  2016        USA  Surfing    M   16           N\n",
       "1  2016        USA  Surfing    M   36           N\n",
       "2  2016        USA  Surfing    M   43           N\n",
       "3  2016  AUSTRALIA  Surfing    M  NaN           N\n",
       "4  2016  AUSTRALIA  Surfing    M  NaN           N"
      ]
     },
     "execution_count": 2,
     "metadata": {},
     "output_type": "execute_result"
    }
   ],
   "source": [
    "# Database import from Kaggle's csv\n",
    "\n",
    "data = pd.read_csv(\"./input/GSAF5.csv\",encoding='cp1252')\n",
    "\n",
    "df = pd.DataFrame(data)\n",
    "df = df[[\"Year\",\"Country\",\"Activity\",\"Sex \",\"Age\",\"Fatal (Y/N)\"]]\n",
    "\n",
    "df.head()"
   ]
  },
  {
   "cell_type": "code",
   "execution_count": 3,
   "metadata": {},
   "outputs": [
    {
     "data": {
      "text/plain": [
       "Country          43\n",
       "Activity        527\n",
       "Sex             567\n",
       "Age            2681\n",
       "Fatal (Y/N)      19\n",
       "dtype: int64"
      ]
     },
     "execution_count": 3,
     "metadata": {},
     "output_type": "execute_result"
    }
   ],
   "source": [
    "# Checking zeroes\n",
    "\n",
    "null_cols = df.isnull().sum()\n",
    "null_cols\n",
    "null_cols[null_cols > 0]"
   ]
  },
  {
   "cell_type": "code",
   "execution_count": 4,
   "metadata": {},
   "outputs": [
    {
     "name": "stdout",
     "output_type": "stream",
     "text": [
      "Year            int64\n",
      "Country        object\n",
      "Activity       object\n",
      "Sex            object\n",
      "Age            object\n",
      "Fatal (Y/N)    object\n",
      "dtype: object\n"
     ]
    }
   ],
   "source": [
    "#Columns data types\n",
    "\n",
    "print(df.dtypes)"
   ]
  },
  {
   "cell_type": "code",
   "execution_count": 5,
   "metadata": {},
   "outputs": [
    {
     "name": "stdout",
     "output_type": "stream",
     "text": [
      "There are  5324  results.\n"
     ]
    }
   ],
   "source": [
    "# Filtering by year (1900-2016)\n",
    "\n",
    "df = df[(df[\"Year\"]>= 1900)]\n",
    "\n",
    "#number of values matching the report range\n",
    "\n",
    "print(\"There are \",df.shape[0],\" results.\")"
   ]
  },
  {
   "cell_type": "code",
   "execution_count": 6,
   "metadata": {},
   "outputs": [],
   "source": [
    "# Fixing the name of the columns \"Sex\", it has an extra space at the end.\n",
    "\n",
    "df = df.rename(columns={\"Sex \":\"Sex\"})\n",
    "\n",
    "# Cleaning the \"Sex\" column\n",
    "\n",
    "df[\"Sex\"]= df[\"Sex\"].fillna(\"Unknown\")\n",
    "df[\"Sex\"] = df[\"Sex\"].apply(sex_filter)"
   ]
  },
  {
   "cell_type": "code",
   "execution_count": 7,
   "metadata": {},
   "outputs": [
    {
     "data": {
      "text/html": [
       "<div>\n",
       "<style scoped>\n",
       "    .dataframe tbody tr th:only-of-type {\n",
       "        vertical-align: middle;\n",
       "    }\n",
       "\n",
       "    .dataframe tbody tr th {\n",
       "        vertical-align: top;\n",
       "    }\n",
       "\n",
       "    .dataframe thead th {\n",
       "        text-align: right;\n",
       "    }\n",
       "</style>\n",
       "<table border=\"1\" class=\"dataframe\">\n",
       "  <thead>\n",
       "    <tr style=\"text-align: right;\">\n",
       "      <th></th>\n",
       "      <th>Count</th>\n",
       "    </tr>\n",
       "    <tr>\n",
       "      <th>Sex</th>\n",
       "      <th></th>\n",
       "    </tr>\n",
       "  </thead>\n",
       "  <tbody>\n",
       "    <tr>\n",
       "      <td>M</td>\n",
       "      <td>4268</td>\n",
       "    </tr>\n",
       "    <tr>\n",
       "      <td>F</td>\n",
       "      <td>548</td>\n",
       "    </tr>\n",
       "    <tr>\n",
       "      <td>Unknown</td>\n",
       "      <td>508</td>\n",
       "    </tr>\n",
       "  </tbody>\n",
       "</table>\n",
       "</div>"
      ],
      "text/plain": [
       "         Count\n",
       "Sex           \n",
       "M         4268\n",
       "F          548\n",
       "Unknown    508"
      ]
     },
     "execution_count": 7,
     "metadata": {},
     "output_type": "execute_result"
    }
   ],
   "source": [
    "# Distribution of sharks attacks by sex of the victim\n",
    "\n",
    "sex_table = df[[\"Sex\",\"Year\"]]\n",
    "sex_table = sex_table.rename(columns={\"Year\":\"Count\"})\n",
    "sex_table = sex_table.groupby([\"Sex\"]).count()\n",
    "sex_table = sex_table.sort_values(by = [\"Count\"],ascending = False)\n",
    "sex_table.head(5)"
   ]
  },
  {
   "cell_type": "code",
   "execution_count": 8,
   "metadata": {},
   "outputs": [],
   "source": [
    "# Renaming the \"fatal\" column \n",
    "\n",
    "df = df.rename(columns={\"Fatal (Y/N)\":\"Fatal\"})\n",
    "df[\"Fatal\"]= df[\"Fatal\"].fillna(\"Unknown\")\n",
    "\n",
    "# Cleaning \"fatal\" column\n",
    "\n",
    "df[\"Fatal\"]= df[\"Fatal\"].fillna(\"Unknown\")\n",
    "df[\"Fatal\"] = df[\"Fatal\"].apply(fatal_filter)"
   ]
  },
  {
   "cell_type": "code",
   "execution_count": 9,
   "metadata": {},
   "outputs": [
    {
     "data": {
      "text/html": [
       "<div>\n",
       "<style scoped>\n",
       "    .dataframe tbody tr th:only-of-type {\n",
       "        vertical-align: middle;\n",
       "    }\n",
       "\n",
       "    .dataframe tbody tr th {\n",
       "        vertical-align: top;\n",
       "    }\n",
       "\n",
       "    .dataframe thead th {\n",
       "        text-align: right;\n",
       "    }\n",
       "</style>\n",
       "<table border=\"1\" class=\"dataframe\">\n",
       "  <thead>\n",
       "    <tr style=\"text-align: right;\">\n",
       "      <th></th>\n",
       "      <th>Count</th>\n",
       "    </tr>\n",
       "    <tr>\n",
       "      <th>Fatal</th>\n",
       "      <th></th>\n",
       "    </tr>\n",
       "  </thead>\n",
       "  <tbody>\n",
       "    <tr>\n",
       "      <td>N</td>\n",
       "      <td>4036</td>\n",
       "    </tr>\n",
       "    <tr>\n",
       "      <td>Y</td>\n",
       "      <td>1203</td>\n",
       "    </tr>\n",
       "    <tr>\n",
       "      <td>Unknown</td>\n",
       "      <td>85</td>\n",
       "    </tr>\n",
       "  </tbody>\n",
       "</table>\n",
       "</div>"
      ],
      "text/plain": [
       "         Count\n",
       "Fatal         \n",
       "N         4036\n",
       "Y         1203\n",
       "Unknown     85"
      ]
     },
     "execution_count": 9,
     "metadata": {},
     "output_type": "execute_result"
    }
   ],
   "source": [
    "# Distribution of sharks attacks by fatal\n",
    "\n",
    "fatal_table = df[[\"Fatal\",\"Year\"]]\n",
    "fatal_table = fatal_table.rename(columns={\"Year\":\"Count\"})\n",
    "fatal_table = fatal_table.groupby([\"Fatal\"]).count()\n",
    "fatal_table = fatal_table.sort_values(by = [\"Count\"],ascending = False)\n",
    "\n",
    "fatal_table.head(5)"
   ]
  },
  {
   "cell_type": "code",
   "execution_count": 10,
   "metadata": {},
   "outputs": [],
   "source": [
    "# Cleaning \"Country\" column\n",
    "\n",
    "df[\"Country\"]= df[\"Country\"].fillna(\"Unknown\")\n",
    "df[\"Country\"] = df[\"Country\"].apply(space_cleaner)"
   ]
  },
  {
   "cell_type": "code",
   "execution_count": 11,
   "metadata": {},
   "outputs": [
    {
     "data": {
      "text/html": [
       "<div>\n",
       "<style scoped>\n",
       "    .dataframe tbody tr th:only-of-type {\n",
       "        vertical-align: middle;\n",
       "    }\n",
       "\n",
       "    .dataframe tbody tr th {\n",
       "        vertical-align: top;\n",
       "    }\n",
       "\n",
       "    .dataframe thead th {\n",
       "        text-align: right;\n",
       "    }\n",
       "</style>\n",
       "<table border=\"1\" class=\"dataframe\">\n",
       "  <thead>\n",
       "    <tr style=\"text-align: right;\">\n",
       "      <th></th>\n",
       "      <th>Count</th>\n",
       "    </tr>\n",
       "    <tr>\n",
       "      <th>Country</th>\n",
       "      <th></th>\n",
       "    </tr>\n",
       "  </thead>\n",
       "  <tbody>\n",
       "    <tr>\n",
       "      <td>USA</td>\n",
       "      <td>1992</td>\n",
       "    </tr>\n",
       "    <tr>\n",
       "      <td>AUSTRALIA</td>\n",
       "      <td>1124</td>\n",
       "    </tr>\n",
       "    <tr>\n",
       "      <td>SOUTH AFRICA</td>\n",
       "      <td>535</td>\n",
       "    </tr>\n",
       "    <tr>\n",
       "      <td>PAPUA NEW GUINEA</td>\n",
       "      <td>129</td>\n",
       "    </tr>\n",
       "    <tr>\n",
       "      <td>BRAZIL</td>\n",
       "      <td>100</td>\n",
       "    </tr>\n",
       "  </tbody>\n",
       "</table>\n",
       "</div>"
      ],
      "text/plain": [
       "                  Count\n",
       "Country                \n",
       "USA                1992\n",
       "AUSTRALIA          1124\n",
       "SOUTH AFRICA        535\n",
       "PAPUA NEW GUINEA    129\n",
       "BRAZIL              100"
      ]
     },
     "execution_count": 11,
     "metadata": {},
     "output_type": "execute_result"
    }
   ],
   "source": [
    "# Distribution of sharks attacks by country\n",
    "\n",
    "country_table = df[[\"Country\",\"Year\"]]\n",
    "country_table = country_table.rename(columns={\"Year\":\"Count\"})\n",
    "country_table = country_table.groupby([\"Country\"]).count()\n",
    "country_table = country_table.sort_values(by = [\"Count\"],ascending = False)\n",
    "\n",
    "country_table.head(5)"
   ]
  },
  {
   "cell_type": "code",
   "execution_count": 12,
   "metadata": {},
   "outputs": [
    {
     "name": "stdout",
     "output_type": "stream",
     "text": [
      "Unknown    2113\n",
      "17          143\n",
      "18          139\n",
      "20          133\n",
      "16          132\n",
      "           ... \n",
      "12            1\n",
      "17            1\n",
      "6             1\n",
      "11            1\n",
      "0             1\n",
      "Name: Age, Length: 113, dtype: int64\n"
     ]
    }
   ],
   "source": [
    "# Cleaning \"age\" column\n",
    "\n",
    "df[\"Age\"]= df[\"Age\"].fillna(\"Unknown\")\n",
    "df[\"Age\"] = df[\"Age\"].apply(age_cleaner)\n",
    "\n",
    "set(df[\"Age\"])\n",
    "print(df[\"Age\"].value_counts().sort_values(ascending = False))"
   ]
  },
  {
   "cell_type": "code",
   "execution_count": 13,
   "metadata": {},
   "outputs": [
    {
     "name": "stdout",
     "output_type": "stream",
     "text": [
      "27.22\n"
     ]
    },
    {
     "name": "stderr",
     "output_type": "stream",
     "text": [
      "/home/jgph91/anaconda3/lib/python3.7/site-packages/ipykernel_launcher.py:4: SettingWithCopyWarning: \n",
      "A value is trying to be set on a copy of a slice from a DataFrame.\n",
      "Try using .loc[row_indexer,col_indexer] = value instead\n",
      "\n",
      "See the caveats in the documentation: http://pandas.pydata.org/pandas-docs/stable/user_guide/indexing.html#returning-a-view-versus-a-copy\n",
      "  after removing the cwd from sys.path.\n"
     ]
    }
   ],
   "source": [
    "# Mean age of the vicitim\n",
    "\n",
    "age_table = df[(df[\"Age\"]!= \"Unknown\")]\n",
    "age_table[\"Age\"] = age_table[\"Age\"].apply(integer)\n",
    "print(round(age_table[\"Age\"].mean(),2))"
   ]
  },
  {
   "cell_type": "code",
   "execution_count": 14,
   "metadata": {},
   "outputs": [
    {
     "name": "stdout",
     "output_type": "stream",
     "text": [
      "Surfing                                                 901\n",
      "Swimming                                                716\n",
      "Unknown                                                 429\n",
      "Fishing                                                 366\n",
      "Spearfishing                                            321\n",
      "                                                       ... \n",
      "Fishing boat swamped in storm                             1\n",
      "Investigating shark sighting                              1\n",
      "Slipped off rocks and fell into the water                 1\n",
      "Fishing, standing in 2' of water                          1\n",
      "Jumped overboard from torpedoed Panamanian freighter      1\n",
      "Name: Activity, Length: 1302, dtype: int64\n"
     ]
    }
   ],
   "source": [
    "#Activity performed by the victim \n",
    "\n",
    "df[\"Activity\"]= df[\"Activity\"].fillna(\"Unknown\")\n",
    "set(df[\"Activity\"])\n",
    "print(df[\"Activity\"].value_counts().sort_values(ascending = False))"
   ]
  },
  {
   "cell_type": "code",
   "execution_count": 15,
   "metadata": {},
   "outputs": [
    {
     "name": "stdout",
     "output_type": "stream",
     "text": [
      "Surfing    5324\n",
      "Name: Activity, dtype: int64\n"
     ]
    }
   ],
   "source": [
    "#No he conseguido hacer funcionar a esta función, me sustituye todos los valores sin importar su contenido...\n",
    "df[\"Activity\"] = df[\"Activity\"].apply(activity_cleaner)\n",
    "print(df[\"Activity\"].value_counts().sort_values(ascending = False))"
   ]
  },
  {
   "cell_type": "code",
   "execution_count": 16,
   "metadata": {},
   "outputs": [
    {
     "data": {
      "text/html": [
       "<div>\n",
       "<style scoped>\n",
       "    .dataframe tbody tr th:only-of-type {\n",
       "        vertical-align: middle;\n",
       "    }\n",
       "\n",
       "    .dataframe tbody tr th {\n",
       "        vertical-align: top;\n",
       "    }\n",
       "\n",
       "    .dataframe thead th {\n",
       "        text-align: right;\n",
       "    }\n",
       "</style>\n",
       "<table border=\"1\" class=\"dataframe\">\n",
       "  <thead>\n",
       "    <tr style=\"text-align: right;\">\n",
       "      <th></th>\n",
       "      <th>Year</th>\n",
       "      <th>Country</th>\n",
       "      <th>Sex</th>\n",
       "      <th>Age</th>\n",
       "      <th>Fatal</th>\n",
       "    </tr>\n",
       "  </thead>\n",
       "  <tbody>\n",
       "    <tr>\n",
       "      <td>0</td>\n",
       "      <td>2016</td>\n",
       "      <td>USA</td>\n",
       "      <td>M</td>\n",
       "      <td>16</td>\n",
       "      <td>N</td>\n",
       "    </tr>\n",
       "    <tr>\n",
       "      <td>1</td>\n",
       "      <td>2016</td>\n",
       "      <td>USA</td>\n",
       "      <td>M</td>\n",
       "      <td>36</td>\n",
       "      <td>N</td>\n",
       "    </tr>\n",
       "    <tr>\n",
       "      <td>2</td>\n",
       "      <td>2016</td>\n",
       "      <td>USA</td>\n",
       "      <td>M</td>\n",
       "      <td>43</td>\n",
       "      <td>N</td>\n",
       "    </tr>\n",
       "    <tr>\n",
       "      <td>3</td>\n",
       "      <td>2016</td>\n",
       "      <td>AUSTRALIA</td>\n",
       "      <td>M</td>\n",
       "      <td>Unknown</td>\n",
       "      <td>N</td>\n",
       "    </tr>\n",
       "    <tr>\n",
       "      <td>4</td>\n",
       "      <td>2016</td>\n",
       "      <td>AUSTRALIA</td>\n",
       "      <td>M</td>\n",
       "      <td>Unknown</td>\n",
       "      <td>N</td>\n",
       "    </tr>\n",
       "    <tr>\n",
       "      <td>...</td>\n",
       "      <td>...</td>\n",
       "      <td>...</td>\n",
       "      <td>...</td>\n",
       "      <td>...</td>\n",
       "      <td>...</td>\n",
       "    </tr>\n",
       "    <tr>\n",
       "      <td>5320</td>\n",
       "      <td>1900</td>\n",
       "      <td>USA</td>\n",
       "      <td>M</td>\n",
       "      <td>Unknown</td>\n",
       "      <td>Y</td>\n",
       "    </tr>\n",
       "    <tr>\n",
       "      <td>5321</td>\n",
       "      <td>1900</td>\n",
       "      <td>USA</td>\n",
       "      <td>Unknown</td>\n",
       "      <td>Unknown</td>\n",
       "      <td>N</td>\n",
       "    </tr>\n",
       "    <tr>\n",
       "      <td>5322</td>\n",
       "      <td>1900</td>\n",
       "      <td>AUSTRALIA</td>\n",
       "      <td>M</td>\n",
       "      <td>Unknown</td>\n",
       "      <td>N</td>\n",
       "    </tr>\n",
       "    <tr>\n",
       "      <td>5323</td>\n",
       "      <td>1900</td>\n",
       "      <td>USA</td>\n",
       "      <td>M</td>\n",
       "      <td>Unknown</td>\n",
       "      <td>N</td>\n",
       "    </tr>\n",
       "    <tr>\n",
       "      <td>5324</td>\n",
       "      <td>1900</td>\n",
       "      <td>SOUTH AFRICA</td>\n",
       "      <td>M</td>\n",
       "      <td>Unknown</td>\n",
       "      <td>N</td>\n",
       "    </tr>\n",
       "  </tbody>\n",
       "</table>\n",
       "<p>5324 rows × 5 columns</p>\n",
       "</div>"
      ],
      "text/plain": [
       "      Year       Country      Sex      Age Fatal\n",
       "0     2016           USA        M       16     N\n",
       "1     2016           USA        M       36     N\n",
       "2     2016           USA        M       43     N\n",
       "3     2016     AUSTRALIA        M  Unknown     N\n",
       "4     2016     AUSTRALIA        M  Unknown     N\n",
       "...    ...           ...      ...      ...   ...\n",
       "5320  1900           USA        M  Unknown     Y\n",
       "5321  1900           USA  Unknown  Unknown     N\n",
       "5322  1900     AUSTRALIA        M  Unknown     N\n",
       "5323  1900           USA        M  Unknown     N\n",
       "5324  1900  SOUTH AFRICA        M  Unknown     N\n",
       "\n",
       "[5324 rows x 5 columns]"
      ]
     },
     "metadata": {},
     "output_type": "display_data"
    }
   ],
   "source": [
    "#Cleaned data frame\n",
    "\n",
    "df = df[[\"Year\",\"Country\",\"Sex\",\"Age\",\"Fatal\"]]\n",
    "display(df)"
   ]
  },
  {
   "cell_type": "code",
   "execution_count": 17,
   "metadata": {},
   "outputs": [],
   "source": [
    "# Export to csv\n",
    "#df.to_csv(\"sharksattacks.csv\")"
   ]
  }
 ],
 "metadata": {
  "kernelspec": {
   "display_name": "Python 3",
   "language": "python",
   "name": "python3"
  },
  "language_info": {
   "codemirror_mode": {
    "name": "ipython",
    "version": 3
   },
   "file_extension": ".py",
   "mimetype": "text/x-python",
   "name": "python",
   "nbconvert_exporter": "python",
   "pygments_lexer": "ipython3",
   "version": "3.7.4"
  }
 },
 "nbformat": 4,
 "nbformat_minor": 2
}
