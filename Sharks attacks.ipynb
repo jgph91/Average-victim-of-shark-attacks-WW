{
 "cells": [
  {
   "cell_type": "markdown",
   "metadata": {},
   "source": [
    "# Average victim of a shark attack"
   ]
  },
  {
   "cell_type": "code",
   "execution_count": 1,
   "metadata": {},
   "outputs": [],
   "source": [
    "import re\n",
    "import pandas as pd\n",
    "import matplotlib.pyplot as plt\n",
    "from src.functions import sex_filter,fatal_filter, age_cleaner"
   ]
  },
  {
   "cell_type": "markdown",
   "metadata": {},
   "source": [
    "Database import from Kaggle's csv and selection of the needed columns"
   ]
  },
  {
   "cell_type": "code",
   "execution_count": 2,
   "metadata": {},
   "outputs": [
    {
     "data": {
      "text/html": [
       "<div>\n",
       "<style scoped>\n",
       "    .dataframe tbody tr th:only-of-type {\n",
       "        vertical-align: middle;\n",
       "    }\n",
       "\n",
       "    .dataframe tbody tr th {\n",
       "        vertical-align: top;\n",
       "    }\n",
       "\n",
       "    .dataframe thead th {\n",
       "        text-align: right;\n",
       "    }\n",
       "</style>\n",
       "<table border=\"1\" class=\"dataframe\">\n",
       "  <thead>\n",
       "    <tr style=\"text-align: right;\">\n",
       "      <th></th>\n",
       "      <th>Year</th>\n",
       "      <th>Country</th>\n",
       "      <th>Activity</th>\n",
       "      <th>Sex</th>\n",
       "      <th>Age</th>\n",
       "      <th>Fatal (Y/N)</th>\n",
       "    </tr>\n",
       "  </thead>\n",
       "  <tbody>\n",
       "    <tr>\n",
       "      <th>0</th>\n",
       "      <td>2016</td>\n",
       "      <td>USA</td>\n",
       "      <td>Surfing</td>\n",
       "      <td>M</td>\n",
       "      <td>16</td>\n",
       "      <td>N</td>\n",
       "    </tr>\n",
       "    <tr>\n",
       "      <th>1</th>\n",
       "      <td>2016</td>\n",
       "      <td>USA</td>\n",
       "      <td>Surfing</td>\n",
       "      <td>M</td>\n",
       "      <td>36</td>\n",
       "      <td>N</td>\n",
       "    </tr>\n",
       "    <tr>\n",
       "      <th>2</th>\n",
       "      <td>2016</td>\n",
       "      <td>USA</td>\n",
       "      <td>Surfing</td>\n",
       "      <td>M</td>\n",
       "      <td>43</td>\n",
       "      <td>N</td>\n",
       "    </tr>\n",
       "    <tr>\n",
       "      <th>3</th>\n",
       "      <td>2016</td>\n",
       "      <td>AUSTRALIA</td>\n",
       "      <td>Surfing</td>\n",
       "      <td>M</td>\n",
       "      <td>NaN</td>\n",
       "      <td>N</td>\n",
       "    </tr>\n",
       "    <tr>\n",
       "      <th>4</th>\n",
       "      <td>2016</td>\n",
       "      <td>AUSTRALIA</td>\n",
       "      <td>Surfing</td>\n",
       "      <td>M</td>\n",
       "      <td>NaN</td>\n",
       "      <td>N</td>\n",
       "    </tr>\n",
       "  </tbody>\n",
       "</table>\n",
       "</div>"
      ],
      "text/plain": [
       "   Year    Country Activity Sex   Age Fatal (Y/N)\n",
       "0  2016        USA  Surfing    M   16           N\n",
       "1  2016        USA  Surfing    M   36           N\n",
       "2  2016        USA  Surfing    M   43           N\n",
       "3  2016  AUSTRALIA  Surfing    M  NaN           N\n",
       "4  2016  AUSTRALIA  Surfing    M  NaN           N"
      ]
     },
     "execution_count": 2,
     "metadata": {},
     "output_type": "execute_result"
    }
   ],
   "source": [
    "data = pd.read_csv(\"./input/GSAF5.csv\",encoding='cp1252')\n",
    "df = pd.DataFrame(data)\n",
    "df = df[[\"Year\",\"Country\",\"Activity\",\"Sex \",\"Age\",\"Fatal (Y/N)\"]]\n",
    "df.head()"
   ]
  },
  {
   "cell_type": "markdown",
   "metadata": {},
   "source": [
    "Data type of each column: there are two numeric values (Age & Year) and four categoric values (Country,Activity, Sex and Fatal).\n",
    "Note: Age data type is corrected in the 'Age' cleaning section."
   ]
  },
  {
   "cell_type": "code",
   "execution_count": 3,
   "metadata": {},
   "outputs": [
    {
     "data": {
      "text/plain": [
       "Year            int64\n",
       "Country        object\n",
       "Activity       object\n",
       "Sex            object\n",
       "Age            object\n",
       "Fatal (Y/N)    object\n",
       "dtype: object"
      ]
     },
     "execution_count": 3,
     "metadata": {},
     "output_type": "execute_result"
    }
   ],
   "source": [
    "df.dtypes"
   ]
  },
  {
   "cell_type": "markdown",
   "metadata": {},
   "source": [
    "Checking how many null values are per column"
   ]
  },
  {
   "cell_type": "code",
   "execution_count": 4,
   "metadata": {},
   "outputs": [
    {
     "data": {
      "text/plain": [
       "Country          43\n",
       "Activity        527\n",
       "Sex             567\n",
       "Age            2681\n",
       "Fatal (Y/N)      19\n",
       "dtype: int64"
      ]
     },
     "execution_count": 4,
     "metadata": {},
     "output_type": "execute_result"
    }
   ],
   "source": [
    "null_cols = df.isnull().sum()\n",
    "null_cols\n",
    "null_cols[null_cols > 0]"
   ]
  },
  {
   "cell_type": "markdown",
   "metadata": {},
   "source": [
    "## Year\n",
    "For reliability purposes the data used for this investigation starts in 1900. In the case of the \"Year\" it wasn't neccessary to clean the data. The amount of data for 1900 to 2016 its 5324 rows.\n"
   ]
  },
  {
   "cell_type": "code",
   "execution_count": 5,
   "metadata": {},
   "outputs": [
    {
     "name": "stdout",
     "output_type": "stream",
     "text": [
      "There are  5324  results.\n"
     ]
    }
   ],
   "source": [
    "df = df[(df[\"Year\"]>= 1900)]\n",
    "print(\"There are \",df.shape[0],\" results.\")"
   ]
  },
  {
   "cell_type": "markdown",
   "metadata": {},
   "source": [
    "## Sex\n",
    "For the \"Sex\" column it was required to rename the columns to erase the blank space at the end of the string. First, the na values were tag as \"Unknown\" and a categorizing function was applied to the data to group it by \"M\" for males and \"F\" for females and to ensure the categorization the set function was used.  4268 of the attacks were suffered by males whereas there were just 548 were the victims were females, so the hypothesis that mean are more affected for sharks attacks its confirmed."
   ]
  },
  {
   "cell_type": "code",
   "execution_count": 6,
   "metadata": {},
   "outputs": [
    {
     "data": {
      "text/plain": [
       "M          4268\n",
       "F           548\n",
       "Unknown     508\n",
       "Name: Sex, dtype: int64"
      ]
     },
     "execution_count": 6,
     "metadata": {},
     "output_type": "execute_result"
    }
   ],
   "source": [
    "df = df.rename(columns={\"Sex \":\"Sex\"})\n",
    "df[\"Sex\"]= df[\"Sex\"].fillna(\"Unknown\")\n",
    "df[\"Sex\"] = df[\"Sex\"].apply(sex_filter)\n",
    "df[\"Sex\"].value_counts().sort_values(ascending = False)"
   ]
  },
  {
   "cell_type": "code",
   "execution_count": 7,
   "metadata": {},
   "outputs": [
    {
     "name": "stderr",
     "output_type": "stream",
     "text": [
      "/usr/local/lib/python3.6/dist-packages/ipykernel_launcher.py:14: MatplotlibDeprecationWarning: Non-1D inputs to pie() are currently squeeze()d, but this behavior is deprecated since 3.1 and will be removed in 3.3; pass a 1D array instead.\n",
      "  \n"
     ]
    },
    {
     "data": {
      "image/png": "[encoded data removed]",
      "text/plain": [
       "<Figure size 432x288 with 1 Axes>"
      ]
     },
     "metadata": {},
     "output_type": "display_data"
    }
   ],
   "source": [
    "# Distribution of sharks attacks by sex of the victim\n",
    "\n",
    "sex_table = df[[\"Sex\",\"Year\"]]\n",
    "sex_table = sex_table.rename(columns={\"Year\":\"Count\"})\n",
    "sex_table = sex_table[(sex_table[\"Sex\"] != \"Unknown\")]\n",
    "sex_table = sex_table.groupby([\"Sex\"]).count()\n",
    "sex_table = sex_table.sort_values(by = [\"Count\"],ascending = False)\n",
    "\n",
    "#pie graph for sharks attacks by sex\n",
    "\n",
    "sex_labels = [\"MALE\",\"FEMALE\"]\n",
    "fig1, ax1 = plt.subplots()\n",
    "ax1.pie(sex_table,labels = sex_labels, autopct='%1.1f%%',\n",
    "        shadow=True, startangle=90)\n",
    "ax1.axis('equal')\n",
    "ax1.legend()\n",
    "ax1.set_title('Attacks by Sex')\n",
    "plt.show()"
   ]
  },
  {
   "cell_type": "markdown",
   "metadata": {},
   "source": [
    "## Fatal\n",
    "About the Fatal column the na values were tag as \"Unknown\" and a categorizing function was applied to the data to group it by \"Y\" for fatal attacks and \"N\" for non-fatal and to ensure the categorization the set function was used. 4036 attacks were non-fatal whereas 1203 were fatal, so it's not true that are most of the times fatal for the victims."
   ]
  },
  {
   "cell_type": "code",
   "execution_count": 8,
   "metadata": {},
   "outputs": [
    {
     "data": {
      "text/plain": [
       "N          4036\n",
       "Y          1203\n",
       "Unknown      85\n",
       "Name: Fatal, dtype: int64"
      ]
     },
     "execution_count": 8,
     "metadata": {},
     "output_type": "execute_result"
    }
   ],
   "source": [
    "df = df.rename(columns={\"Fatal (Y/N)\":\"Fatal\"})\n",
    "df[\"Fatal\"]= df[\"Fatal\"].fillna(\"Unknown\")\n",
    "df[\"Fatal\"] = df[\"Fatal\"].apply(fatal_filter)\n",
    "df[\"Fatal\"].value_counts().sort_values(ascending = False)"
   ]
  },
  {
   "cell_type": "code",
   "execution_count": 9,
   "metadata": {},
   "outputs": [
    {
     "name": "stderr",
     "output_type": "stream",
     "text": [
      "/usr/local/lib/python3.6/dist-packages/ipykernel_launcher.py:14: MatplotlibDeprecationWarning: Non-1D inputs to pie() are currently squeeze()d, but this behavior is deprecated since 3.1 and will be removed in 3.3; pass a 1D array instead.\n",
      "  \n"
     ]
    },
    {
     "data": {
      "image/png": "[encoded data removed]",
      "text/plain": [
       "<Figure size 432x288 with 1 Axes>"
      ]
     },
     "metadata": {},
     "output_type": "display_data"
    }
   ],
   "source": [
    "# Distribution of sharks attacks by fatal\n",
    "\n",
    "fatal_table = df[[\"Fatal\",\"Year\"]]\n",
    "fatal_table = fatal_table.rename(columns={\"Year\":\"Count\"})\n",
    "fatal_table = fatal_table[(fatal_table[\"Fatal\"]!= \"Unknown\")]\n",
    "fatal_table = fatal_table.groupby([\"Fatal\"]).count()\n",
    "fatal_table = fatal_table.sort_values(by = [\"Count\"],ascending = False)\n",
    "\n",
    "#pie graph for sharks attacks by fatals\n",
    "\n",
    "fatal_labels = [\"N\",\"Y\"]\n",
    "fig2, ax2 = plt.subplots()\n",
    "ax2.pie(fatal_table,labels = fatal_labels, autopct='%1.1f%%',\n",
    "        shadow=True, startangle=90)\n",
    "ax2.axis('equal')\n",
    "ax2.legend()\n",
    "ax2.set_title('Attacks by Fatality')\n",
    "plt.show()"
   ]
  },
  {
   "cell_type": "markdown",
   "metadata": {},
   "source": [
    "## Country\n",
    "About the country, a function was used to erase the blank spaces at the beginning and at the end of each value. The USA it's the most affected country by this kind of attacks with 1992 cases, then it follows with 1124 cases in Australia and the South Africa with 535 cases. It's confirmed that the USA is the country with the highest number of sharks attacks."
   ]
  },
  {
   "cell_type": "code",
   "execution_count": 10,
   "metadata": {},
   "outputs": [
    {
     "name": "stdout",
     "output_type": "stream",
     "text": [
      "USA                   1992\n",
      "AUSTRALIA             1124\n",
      "SOUTH AFRICA           535\n",
      "PAPUA NEW GUINEA       129\n",
      "BRAZIL                 100\n",
      "                      ... \n",
      "BANGLADESH               1\n",
      "ITALY / CROATIA          1\n",
      "MEDITERRANEAN SEA?       1\n",
      "WESTERN SAMOA            1\n",
      "ARGENTINA                1\n",
      "Name: Country, Length: 168, dtype: int64\n"
     ]
    }
   ],
   "source": [
    "df[\"Country\"]= df[\"Country\"].fillna(\"Unknown\")\n",
    "df[\"Country\"] = df[\"Country\"].str.strip()\n",
    "print(df[\"Country\"].value_counts().sort_values(ascending = False))"
   ]
  },
  {
   "cell_type": "code",
   "execution_count": 11,
   "metadata": {},
   "outputs": [
    {
     "name": "stderr",
     "output_type": "stream",
     "text": [
      "/usr/local/lib/python3.6/dist-packages/ipykernel_launcher.py:13: MatplotlibDeprecationWarning: Non-1D inputs to pie() are currently squeeze()d, but this behavior is deprecated since 3.1 and will be removed in 3.3; pass a 1D array instead.\n",
      "  del sys.path[0]\n"
     ]
    },
    {
     "data": {
      "image/png": "[encoded data removed]",
      "text/plain": [
       "<Figure size 432x288 with 1 Axes>"
      ]
     },
     "metadata": {},
     "output_type": "display_data"
    }
   ],
   "source": [
    "country_table = df[[\"Country\",\"Year\"]]\n",
    "country_table = country_table.rename(columns={\"Year\":\"Count\"})\n",
    "country_table = country_table[(country_table[\"Country\"]!= \"Unknown\")]\n",
    "country_table = country_table.groupby([\"Country\"]).count()\n",
    "country_table = country_table.sort_values(by = [\"Count\"],ascending = False)\n",
    "\n",
    "#take only the three most common values\n",
    "country_table = country_table.iloc[0:3]\n",
    "\n",
    "country_labels = ['USA','AUSTRALIA','SOUTH AFRICA']\n",
    "fig3, ax3 = plt.subplots()\n",
    "ax3.pie(country_table,labels = country_labels, autopct='%1.1f%%',\n",
    "        shadow=True, startangle=90)\n",
    "ax3.axis('equal')\n",
    "ax3.legend(loc = 'lower right')\n",
    "ax3.set_title('Attacks by Country')\n",
    "plt.show()"
   ]
  },
  {
   "cell_type": "markdown",
   "metadata": {},
   "source": [
    "## Age\n",
    "First the data type was change to int then it was needed to fill the na values with the \"Unknown\" label and to uniform the data using a function. There were some attacks where there were more than one victim, so it was necessary to get the man value of the age and insert it in the data frame. Also the data was changed to the int type in order to perform the required calculations. The three more common values were 17,18 and 20 years and the mean was 27,22 years, so we could confirm that young people suffer more sharks attacks than older people."
   ]
  },
  {
   "cell_type": "code",
   "execution_count": 12,
   "metadata": {},
   "outputs": [
    {
     "name": "stdout",
     "output_type": "stream",
     "text": [
      "Unknown    2113\n",
      "17          143\n",
      "18          139\n",
      "20          133\n",
      "16          132\n",
      "           ... \n",
      "11            1\n",
      "12            1\n",
      "7             1\n",
      "14            1\n",
      "0             1\n",
      "Name: Age, Length: 113, dtype: int64\n"
     ]
    }
   ],
   "source": [
    "\n",
    "df[\"Age\"]= df[\"Age\"].fillna(\"Unknown\")\n",
    "df[\"Age\"] = df[\"Age\"].apply(age_cleaner)\n",
    "print(df[\"Age\"].value_counts().sort_values(ascending = False))"
   ]
  },
  {
   "cell_type": "code",
   "execution_count": 13,
   "metadata": {},
   "outputs": [
    {
     "name": "stdout",
     "output_type": "stream",
     "text": [
      "27.22\n"
     ]
    },
    {
     "name": "stderr",
     "output_type": "stream",
     "text": [
      "/usr/local/lib/python3.6/dist-packages/ipykernel_launcher.py:4: SettingWithCopyWarning: \n",
      "A value is trying to be set on a copy of a slice from a DataFrame.\n",
      "Try using .loc[row_indexer,col_indexer] = value instead\n",
      "\n",
      "See the caveats in the documentation: http://pandas.pydata.org/pandas-docs/stable/user_guide/indexing.html#returning-a-view-versus-a-copy\n",
      "  after removing the cwd from sys.path.\n"
     ]
    }
   ],
   "source": [
    "# Mean age of the victim\n",
    "\n",
    "age_table = df[(df[\"Age\"]!= \"Unknown\")]\n",
    "age_table[\"Age\"] = age_table[\"Age\"].apply(int)\n",
    "print(round(age_table[\"Age\"].mean(),2))"
   ]
  },
  {
   "cell_type": "code",
   "execution_count": 14,
   "metadata": {},
   "outputs": [
    {
     "data": {
      "text/html": [
       "<div>\n",
       "<style scoped>\n",
       "    .dataframe tbody tr th:only-of-type {\n",
       "        vertical-align: middle;\n",
       "    }\n",
       "\n",
       "    .dataframe tbody tr th {\n",
       "        vertical-align: top;\n",
       "    }\n",
       "\n",
       "    .dataframe thead th {\n",
       "        text-align: right;\n",
       "    }\n",
       "</style>\n",
       "<table border=\"1\" class=\"dataframe\">\n",
       "  <thead>\n",
       "    <tr style=\"text-align: right;\">\n",
       "      <th></th>\n",
       "      <th>Count</th>\n",
       "    </tr>\n",
       "    <tr>\n",
       "      <th>Age</th>\n",
       "      <th></th>\n",
       "    </tr>\n",
       "  </thead>\n",
       "  <tbody>\n",
       "    <tr>\n",
       "      <th>17</th>\n",
       "      <td>143</td>\n",
       "    </tr>\n",
       "    <tr>\n",
       "      <th>18</th>\n",
       "      <td>139</td>\n",
       "    </tr>\n",
       "    <tr>\n",
       "      <th>20</th>\n",
       "      <td>133</td>\n",
       "    </tr>\n",
       "    <tr>\n",
       "      <th>16</th>\n",
       "      <td>132</td>\n",
       "    </tr>\n",
       "    <tr>\n",
       "      <th>19</th>\n",
       "      <td>132</td>\n",
       "    </tr>\n",
       "  </tbody>\n",
       "</table>\n",
       "</div>"
      ],
      "text/plain": [
       "     Count\n",
       "Age       \n",
       "17     143\n",
       "18     139\n",
       "20     133\n",
       "16     132\n",
       "19     132"
      ]
     },
     "execution_count": 14,
     "metadata": {},
     "output_type": "execute_result"
    }
   ],
   "source": [
    "# Distribution of sharks attacks by age of the victim\n",
    "\n",
    "age_table = df[[\"Age\",\"Year\"]]\n",
    "age_table = age_table.rename(columns={\"Year\":\"Count\"})\n",
    "age_table = age_table[(age_table[\"Age\"]!= \"Unknown\")]\n",
    "age_table = age_table.groupby([\"Age\"]).count()\n",
    "age_table = age_table.sort_values(by = [\"Count\"],ascending = False)\n",
    "\n",
    "age_table.head(5)"
   ]
  },
  {
   "cell_type": "markdown",
   "metadata": {},
   "source": [
    "## Activity\n",
    "Regarding the activity which was performing the victim when she or she was attacked, the column was cleaned using regex function with the most common activities saw in the set of the column. The three most common activities are: Surfing(1180), Fishing & Hunting (1020) and swimming (914). So it's confirmed that surfing is the most common case."
   ]
  },
  {
   "cell_type": "code",
   "execution_count": 22,
   "metadata": {},
   "outputs": [
    {
     "data": {
      "text/html": [
       "<div>\n",
       "<style scoped>\n",
       "    .dataframe tbody tr th:only-of-type {\n",
       "        vertical-align: middle;\n",
       "    }\n",
       "\n",
       "    .dataframe tbody tr th {\n",
       "        vertical-align: top;\n",
       "    }\n",
       "\n",
       "    .dataframe thead th {\n",
       "        text-align: right;\n",
       "    }\n",
       "</style>\n",
       "<table border=\"1\" class=\"dataframe\">\n",
       "  <thead>\n",
       "    <tr style=\"text-align: right;\">\n",
       "      <th></th>\n",
       "      <th>Count</th>\n",
       "    </tr>\n",
       "    <tr>\n",
       "      <th>Activity</th>\n",
       "      <th></th>\n",
       "    </tr>\n",
       "  </thead>\n",
       "  <tbody>\n",
       "    <tr>\n",
       "      <th>Others</th>\n",
       "      <td>2210</td>\n",
       "    </tr>\n",
       "    <tr>\n",
       "      <th>Surfing</th>\n",
       "      <td>1180</td>\n",
       "    </tr>\n",
       "    <tr>\n",
       "      <th>Fishing&amp;Hunting</th>\n",
       "      <td>1020</td>\n",
       "    </tr>\n",
       "    <tr>\n",
       "      <th>Swimming</th>\n",
       "      <td>914</td>\n",
       "    </tr>\n",
       "  </tbody>\n",
       "</table>\n",
       "</div>"
      ],
      "text/plain": [
       "                 Count\n",
       "Activity              \n",
       "Others            2210\n",
       "Surfing           1180\n",
       "Fishing&Hunting   1020\n",
       "Swimming           914"
      ]
     },
     "execution_count": 22,
     "metadata": {},
     "output_type": "execute_result"
    }
   ],
   "source": [
    "df[\"Activity\"]= df[\"Activity\"].fillna(\"Unknown\")\n",
    "df['Activity'] = df['Activity'].str.strip()\n",
    "lst = []\n",
    "\n",
    "for e in df[\"Activity\"]:\n",
    "    if re.search(\"Surf|surf\",e):\n",
    "        e = e.replace(e,'Surfing')\n",
    "        lst.append(e)\n",
    "        \n",
    "    elif re.search(\"Disaster|Aircraft|aircraft|disaster|tsunami|storm|Wreck|wreck|Accident|accident|explo|Explo|Adrift|sank|foundered|capsized|burning|fog|crash|plunged|Foundering|fell|Fell|overboard|drift|shot down|rescue|aid|sunk|Sink|Hurricane|hurricane|squall|plane|feet|skiing|submarine|saving|Parachuted|down|steam|wave\",e):\n",
    "        e = e.replace(e,'Accidents or natural disasters')\n",
    "        lst.append(e)\n",
    "        \n",
    "    elif re.search(\"Playing|Canoe|canoe|kite|Kite|race|Race|Racing|racing|Competing|kayak|Kayak|Scuba|dived|Dived|diver|diving|Diver|Diving|Snorkel|Paddl|Rowing|Bodyboarding|Body|body|paddl|Boogie|Scull\",e):\n",
    "        e = e.replace(e,\"Other Water Sports\")\n",
    "        lst.append(e)\n",
    "        \n",
    "    elif re.search(\"Swimming|swimming\",e):\n",
    "        e = e.replace(e,\"Swimming\")\n",
    "        lst.append(e)\n",
    "        \n",
    "    elif re.search(\"Fishing|fishing|Lobstering|Crabbing|crabbing|Killing|Harpoon|harpoon|Catching|Collecting|Hunting|Net|net|Fish|fish|Clamming\",e):\n",
    "        e = e.replace(e,\"Fishing&Hunting\")\n",
    "        lst.append(e)\n",
    "        \n",
    "    elif re.search(\"Walking|walking\",e):\n",
    "        e = e.replace(e,\"Walking\")\n",
    "        lst.append(e)\n",
    "        \n",
    "    elif re.search(\"Bathing|bathing|Floating|Standing|standing|Bather|Splash|splash|jump|Jump|Treading|Beach|beach|Sitting|water|float|Wading|wading\",e):\n",
    "        e = e.replace(e,\"Bathing\")\n",
    "        lst.append(e)\n",
    "        \n",
    "    elif re.search(\"Attempting|attempting|Escaping|horse|religious\",e):\n",
    "        e = e.replace(e,\"Stranger things\")\n",
    "        lst.append(e)\n",
    "        \n",
    "    elif re.search(\"Shark|shark\",e):\n",
    "        e = e.replace(e,\"Shark related activities\")\n",
    "        lst.append(e)\n",
    "        \n",
    "    elif re.search(\"Boat|boat|Boating|boating|Sailing|sailing|Cruising|raft\",e):\n",
    "        e = e.replace(e,\"Boating\")\n",
    "        lst.append(e)\n",
    "        \n",
    "    elif re.search(\"Murder|Disappeared|disappeared|found|Unknown|male|nan|miss|details|\\.\",e):\n",
    "        e = e.replace(e,\"UnKnown\")\n",
    "        lst.append(e)\n",
    "        \n",
    "    else:\n",
    "        e = e.replace(e,\"Others\")\n",
    "        lst.append(e)\n",
    "        \n",
    "        \n",
    "df[\"Activity\"] = lst\n",
    "\n",
    "activity_table = df[[\"Activity\",\"Year\"]]\n",
    "activity_table = activity_table.rename(columns={\"Year\":\"Count\"})\n",
    "activity_table = activity_table[(activity_table[\"Activity\"]!= \"Unknown\")]\n",
    "activity_table = activity_table.groupby([\"Activity\"]).count()\n",
    "activity_table = activity_table.sort_values(by = [\"Count\"],ascending = False)\n",
    "\n",
    "activity_table.head(5)"
   ]
  },
  {
   "cell_type": "code",
   "execution_count": 23,
   "metadata": {},
   "outputs": [
    {
     "name": "stderr",
     "output_type": "stream",
     "text": [
      "/usr/local/lib/python3.6/dist-packages/ipykernel_launcher.py:6: MatplotlibDeprecationWarning: Non-1D inputs to pie() are currently squeeze()d, but this behavior is deprecated since 3.1 and will be removed in 3.3; pass a 1D array instead.\n",
      "  \n"
     ]
    },
    {
     "data": {
      "image/png": "[encoded data removed]",
      "text/plain": [
       "<Figure size 432x288 with 1 Axes>"
      ]
     },
     "metadata": {},
     "output_type": "display_data"
    }
   ],
   "source": [
    "# Distribution of sharks attacks by activity\n",
    "\n",
    "activity_labels = [\"Others\",\"Surfing\",\"Fishing&Hunting\",\"Swimming\"]\n",
    "fig4, ax4 = plt.subplots()\n",
    "ax4.pie(activity_table,labels = activity_labels, autopct='%1.1f%%',\n",
    "        shadow=True, startangle=90)\n",
    "ax4.axis('equal')\n",
    "ax4.set_title('Attacks by Activity')\n",
    "plt.show()"
   ]
  },
  {
   "cell_type": "markdown",
   "metadata": {},
   "source": [
    "## Cleaned data base"
   ]
  },
  {
   "cell_type": "code",
   "execution_count": 17,
   "metadata": {
    "scrolled": true
   },
   "outputs": [
    {
     "data": {
      "text/html": [
       "<div>\n",
       "<style scoped>\n",
       "    .dataframe tbody tr th:only-of-type {\n",
       "        vertical-align: middle;\n",
       "    }\n",
       "\n",
       "    .dataframe tbody tr th {\n",
       "        vertical-align: top;\n",
       "    }\n",
       "\n",
       "    .dataframe thead th {\n",
       "        text-align: right;\n",
       "    }\n",
       "</style>\n",
       "<table border=\"1\" class=\"dataframe\">\n",
       "  <thead>\n",
       "    <tr style=\"text-align: right;\">\n",
       "      <th></th>\n",
       "      <th>Year</th>\n",
       "      <th>Country</th>\n",
       "      <th>Sex</th>\n",
       "      <th>Age</th>\n",
       "      <th>Activity</th>\n",
       "      <th>Fatal</th>\n",
       "    </tr>\n",
       "  </thead>\n",
       "  <tbody>\n",
       "    <tr>\n",
       "      <th>0</th>\n",
       "      <td>2016</td>\n",
       "      <td>USA</td>\n",
       "      <td>M</td>\n",
       "      <td>16</td>\n",
       "      <td>Surfing</td>\n",
       "      <td>N</td>\n",
       "    </tr>\n",
       "    <tr>\n",
       "      <th>1</th>\n",
       "      <td>2016</td>\n",
       "      <td>USA</td>\n",
       "      <td>M</td>\n",
       "      <td>36</td>\n",
       "      <td>Surfing</td>\n",
       "      <td>N</td>\n",
       "    </tr>\n",
       "    <tr>\n",
       "      <th>2</th>\n",
       "      <td>2016</td>\n",
       "      <td>USA</td>\n",
       "      <td>M</td>\n",
       "      <td>43</td>\n",
       "      <td>Surfing</td>\n",
       "      <td>N</td>\n",
       "    </tr>\n",
       "    <tr>\n",
       "      <th>3</th>\n",
       "      <td>2016</td>\n",
       "      <td>AUSTRALIA</td>\n",
       "      <td>M</td>\n",
       "      <td>Unknown</td>\n",
       "      <td>Surfing</td>\n",
       "      <td>N</td>\n",
       "    </tr>\n",
       "    <tr>\n",
       "      <th>4</th>\n",
       "      <td>2016</td>\n",
       "      <td>AUSTRALIA</td>\n",
       "      <td>M</td>\n",
       "      <td>Unknown</td>\n",
       "      <td>Surfing</td>\n",
       "      <td>N</td>\n",
       "    </tr>\n",
       "    <tr>\n",
       "      <th>...</th>\n",
       "      <td>...</td>\n",
       "      <td>...</td>\n",
       "      <td>...</td>\n",
       "      <td>...</td>\n",
       "      <td>...</td>\n",
       "      <td>...</td>\n",
       "    </tr>\n",
       "    <tr>\n",
       "      <th>5320</th>\n",
       "      <td>1900</td>\n",
       "      <td>USA</td>\n",
       "      <td>M</td>\n",
       "      <td>Unknown</td>\n",
       "      <td>Other</td>\n",
       "      <td>Y</td>\n",
       "    </tr>\n",
       "    <tr>\n",
       "      <th>5321</th>\n",
       "      <td>1900</td>\n",
       "      <td>USA</td>\n",
       "      <td>Unknown</td>\n",
       "      <td>Unknown</td>\n",
       "      <td>Other</td>\n",
       "      <td>N</td>\n",
       "    </tr>\n",
       "    <tr>\n",
       "      <th>5322</th>\n",
       "      <td>1900</td>\n",
       "      <td>AUSTRALIA</td>\n",
       "      <td>M</td>\n",
       "      <td>Unknown</td>\n",
       "      <td>Other</td>\n",
       "      <td>N</td>\n",
       "    </tr>\n",
       "    <tr>\n",
       "      <th>5323</th>\n",
       "      <td>1900</td>\n",
       "      <td>USA</td>\n",
       "      <td>M</td>\n",
       "      <td>Unknown</td>\n",
       "      <td>Unknown</td>\n",
       "      <td>N</td>\n",
       "    </tr>\n",
       "    <tr>\n",
       "      <th>5324</th>\n",
       "      <td>1900</td>\n",
       "      <td>SOUTH AFRICA</td>\n",
       "      <td>M</td>\n",
       "      <td>Unknown</td>\n",
       "      <td>Swimming</td>\n",
       "      <td>N</td>\n",
       "    </tr>\n",
       "  </tbody>\n",
       "</table>\n",
       "<p>5324 rows × 6 columns</p>\n",
       "</div>"
      ],
      "text/plain": [
       "      Year       Country      Sex      Age  Activity Fatal\n",
       "0     2016           USA        M       16   Surfing     N\n",
       "1     2016           USA        M       36   Surfing     N\n",
       "2     2016           USA        M       43   Surfing     N\n",
       "3     2016     AUSTRALIA        M  Unknown   Surfing     N\n",
       "4     2016     AUSTRALIA        M  Unknown   Surfing     N\n",
       "...    ...           ...      ...      ...       ...   ...\n",
       "5320  1900           USA        M  Unknown     Other     Y\n",
       "5321  1900           USA  Unknown  Unknown     Other     N\n",
       "5322  1900     AUSTRALIA        M  Unknown     Other     N\n",
       "5323  1900           USA        M  Unknown   Unknown     N\n",
       "5324  1900  SOUTH AFRICA        M  Unknown  Swimming     N\n",
       "\n",
       "[5324 rows x 6 columns]"
      ]
     },
     "metadata": {},
     "output_type": "display_data"
    }
   ],
   "source": [
    "df = df[[\"Year\",\"Country\",\"Sex\",\"Age\",\"Activity\",\"Fatal\"]]\n",
    "display(df)"
   ]
  },
  {
   "cell_type": "code",
   "execution_count": 18,
   "metadata": {},
   "outputs": [],
   "source": [
    "# Export to csv\n",
    "#df.to_csv(\"sharksattacks.csv\")"
   ]
  }
 ],
 "metadata": {
  "kernelspec": {
   "display_name": "Python 3",
   "language": "python",
   "name": "python3"
  },
  "language_info": {
   "codemirror_mode": {
    "name": "ipython",
    "version": 3
   },
   "file_extension": ".py",
   "mimetype": "text/x-python",
   "name": "python",
   "nbconvert_exporter": "python",
   "pygments_lexer": "ipython3",
   "version": "3.6.9"
  }
 },
 "nbformat": 4,
 "nbformat_minor": 2
}
